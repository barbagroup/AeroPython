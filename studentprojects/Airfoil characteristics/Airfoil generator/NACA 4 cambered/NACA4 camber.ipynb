{
 "metadata": {
  "name": "",
  "signature": "sha256:0a5f03f38f100bca0a018824ee2aa0b6a5097208f48e86d9b6031ee53a55fb06"
 },
 "nbformat": 3,
 "nbformat_minor": 0,
 "worksheets": [
  {
   "cells": [
    {
     "cell_type": "code",
     "collapsed": false,
     "input": [
      "import numpy as np\n",
      "import math\n",
      "import matplotlib.pyplot as plt\n",
      "import csv"
     ],
     "language": "python",
     "metadata": {},
     "outputs": [
      {
       "output_type": "stream",
       "stream": "stdout",
       "text": [
        "\n"
       ]
      }
     ],
     "prompt_number": 8
    },
    {
     "cell_type": "code",
     "collapsed": false,
     "input": [
      "with open (r'C:\\Users\\Amiya\\Documents\\GWU\\AeroHydro\\Project\\Airfoil characteristics/2412.txt') as file_name:\n",
      "    x_j, y_j = np.loadtxt(file_name, dtype=float, delimiter='\\t', unpack=True)\n",
      "    \n",
      "plt.plot(x_j,y_j)"
     ],
     "language": "python",
     "metadata": {},
     "outputs": [
      {
       "metadata": {},
       "output_type": "pyout",
       "prompt_number": 9,
       "text": [
        "[<matplotlib.lines.Line2D at 0x9d06160>]"
       ]
      }
     ],
     "prompt_number": 9
    },
    {
     "cell_type": "code",
     "collapsed": false,
     "input": [
      "c = 1.0            #chord\n",
      "thickness = 12.0     #thickness as a percent of chord\n",
      "camber = 2.0       #max camber as a percent of chord\n",
      "camber_loc = 4.0     #location of max camber as 1/10 percent of a chord\n",
      "\n",
      "t = thickness/100.0           #max thickness as a fraction of the chord\n",
      "m = camber/100.0\n",
      "p = camber_loc/10.0   \n",
      "\n",
      "N = 202            #number of points describing airfoil\n",
      "theta_u = np.linspace(0., np.pi, N/2)\n",
      "x = np.linspace(0., c, N/2)\n",
      "#theta_l = np.linspace(np.pi, 2*np.pi, N/2)\n",
      "y_t = (t/0.2)*(0.2969*np.sqrt(x) - 0.126*x - 0.3516*x**2 + 0.2843*x**3 - 0.1015*x**4)\n",
      "\n",
      "print x.size\n",
      "print y_t.size\n",
      "print y_t[0]\n",
      "plt.plot(x,y_t)\n",
      "print thickness/100\n",
      "print camber/100\n",
      "print camber_loc/10"
     ],
     "language": "python",
     "metadata": {},
     "outputs": [
      {
       "output_type": "stream",
       "stream": "stdout",
       "text": [
        "101\n",
        "101\n",
        "0.0\n",
        "0.12\n",
        "0.02\n",
        "0.4\n"
       ]
      }
     ],
     "prompt_number": 10
    },
    {
     "cell_type": "code",
     "collapsed": false,
     "input": [
      "x_u = np.zeros(x.size, dtype=float)\n",
      "y_u = np.zeros(x.size, dtype=float)\n",
      "x_l = np.zeros(x.size, dtype=float)\n",
      "y_l = np.zeros(x.size, dtype=float)\n",
      "y_c = np.zeros(x.size, dtype=float)\n",
      "dyc_dx = np.zeros(x.size, dtype=float)\n",
      "\n",
      "for i in range(N/2-1):\n",
      "    if x[i]>p*c:\n",
      "        y_c[i] = (m/(1-p)**2)*((1-(2*p))+(2*p*x[i])-x[i]**2)\n",
      "        dyc_dx[i] = (2*m/(1-p)**2)*(p-x[i])\n",
      "    else:\n",
      "        y_c[i] = (m/p**2)*((2*p*x[i])-x[i]**2)\n",
      "        dyc_dx[i] = (2*m/p**2)*(p-x[i])\n",
      "\n",
      "plt.plot(x[0:N/4],y_c[0:N/4])\n",
      "print y_c[0]"
     ],
     "language": "python",
     "metadata": {},
     "outputs": [
      {
       "output_type": "stream",
       "stream": "stdout",
       "text": [
        "0.0\n"
       ]
      }
     ],
     "prompt_number": 11
    },
    {
     "cell_type": "code",
     "collapsed": false,
     "input": [
      "x_u = x - y_t*np.sin(np.arctan(dyc_dx))\n",
      "y_u = y_c + y_t*np.cos(np.arctan(dyc_dx))\n",
      "        #print i, x_u[i]\n",
      "    \n",
      "x_l = x + y_t*np.sin(np.arctan(dyc_dx))\n",
      "y_l = y_c - y_t*np.cos(np.arctan(dyc_dx))\n",
      "\n",
      "x_l[0], y_l[0] = x_u[0], y_u[0]\n",
      "x_l[N/2 - 1], y_l[N/2 - 1] = x_u[N/2 - 1], y_u[N/2 - 1]\n",
      "\n",
      "print x_l[0], y_l[0],x_u[0], y_u[0]\n",
      "print x_l[N/2 - 1], y_l[N/2 - 1],x_u[N/2 - 1], y_u[N/2 - 1]"
     ],
     "language": "python",
     "metadata": {},
     "outputs": [
      {
       "output_type": "stream",
       "stream": "stdout",
       "text": [
        "0.0 0.0 0.0 0.0\n",
        "1.0 0.00126 1.0 0.00126\n"
       ]
      }
     ],
     "prompt_number": 12
    },
    {
     "cell_type": "code",
     "collapsed": false,
     "input": [
      "#plt.plot(x_u, y_u, marker='x')\n",
      "plt.plot(x_l, y_l, color='#CD2305', marker='o')\n",
      "plt.plot(x_u, y_u, marker='o')\n",
      "plt.plot(x_j,y_j, color='g', marker='x')\n",
      "#plt.scatter(x_j, y_j, marker='o')\n"
     ],
     "language": "python",
     "metadata": {},
     "outputs": [
      {
       "metadata": {},
       "output_type": "pyout",
       "prompt_number": 13,
       "text": [
        "[<matplotlib.lines.Line2D at 0xa00feb8>]"
       ]
      }
     ],
     "prompt_number": 13
    },
    {
     "cell_type": "code",
     "collapsed": false,
     "input": [
      "cb = np.zeros(x.size, dtype=float)"
     ],
     "language": "python",
     "metadata": {},
     "outputs": [],
     "prompt_number": 14
    },
    {
     "cell_type": "code",
     "collapsed": false,
     "input": [
      "print x_j.size"
     ],
     "language": "python",
     "metadata": {},
     "outputs": [
      {
       "output_type": "stream",
       "stream": "stdout",
       "text": [
        "101\n"
       ]
      }
     ],
     "prompt_number": 15
    },
    {
     "cell_type": "code",
     "collapsed": false,
     "input": [
      "print x.size"
     ],
     "language": "python",
     "metadata": {},
     "outputs": [
      {
       "output_type": "stream",
       "stream": "stdout",
       "text": [
        "101\n"
       ]
      }
     ],
     "prompt_number": 16
    },
    {
     "cell_type": "code",
     "collapsed": false,
     "input": [],
     "language": "python",
     "metadata": {},
     "outputs": [],
     "prompt_number": 16
    },
    {
     "cell_type": "code",
     "collapsed": false,
     "input": [],
     "language": "python",
     "metadata": {},
     "outputs": [],
     "prompt_number": 16
    },
    {
     "cell_type": "code",
     "collapsed": false,
     "input": [],
     "language": "python",
     "metadata": {},
     "outputs": [],
     "prompt_number": 16
    }
   ],
   "metadata": {}
  }
 ]
}