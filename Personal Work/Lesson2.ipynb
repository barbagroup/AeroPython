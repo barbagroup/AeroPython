{
 "metadata": {
  "name": "",
  "signature": "sha256:75afbad570e567dadab4b7f12fc3093b401cbcaaa4d5b3c7a16b93707fe574d4"
 },
 "nbformat": 3,
 "nbformat_minor": 0,
 "worksheets": [
  {
   "cells": [
    {
     "cell_type": "code",
     "collapsed": false,
     "input": [
      "from math import *\n",
      "import numpy as np\n",
      "import matplotlib.pyplot as plt"
     ],
     "language": "python",
     "metadata": {},
     "outputs": [],
     "prompt_number": 1
    },
    {
     "cell_type": "code",
     "collapsed": false,
     "input": [
      "N = 200\n",
      "x_start, x_end = -4.0, 4.0\n",
      "y_start, y_end = -2.0, 2.0\n",
      "x = np.linspace(x_start,x_end,N)\n",
      "y = np.linspace(y_start,y_end,N)\n",
      "X, Y = np.meshgrid(x,y)"
     ],
     "language": "python",
     "metadata": {},
     "outputs": [],
     "prompt_number": 4
    },
    {
     "cell_type": "code",
     "collapsed": false,
     "input": [],
     "language": "python",
     "metadata": {},
     "outputs": []
    }
   ],
   "metadata": {}
  }
 ]
}