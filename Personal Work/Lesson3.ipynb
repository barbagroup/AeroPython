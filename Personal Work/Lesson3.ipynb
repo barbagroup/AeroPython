{
 "metadata": {
  "name": "",
  "signature": "sha256:44cf9f0a4c680b00d7f184c58cd8a81fc7b5b3a26176aaaab86b85cd9b9ce560"
 },
 "nbformat": 3,
 "nbformat_minor": 0,
 "worksheets": [
  {
   "cells": [
    {
     "cell_type": "code",
     "collapsed": false,
     "input": [
      "import math\n",
      "import numpy\n",
      "from matplotlib import pyplot"
     ],
     "language": "python",
     "metadata": {},
     "outputs": [],
     "prompt_number": 1
    },
    {
     "cell_type": "code",
     "collapsed": false,
     "input": [],
     "language": "python",
     "metadata": {},
     "outputs": []
    }
   ],
   "metadata": {}
  }
 ]
}