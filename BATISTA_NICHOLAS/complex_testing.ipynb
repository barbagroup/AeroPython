{
 "metadata": {
  "name": "",
  "signature": "sha256:3fc863efd01ac87dc670cc6471f8793dbcfb58080b23ecd077f13f40c20e2651"
 },
 "nbformat": 3,
 "nbformat_minor": 0,
 "worksheets": [
  {
   "cells": [
    {
     "cell_type": "code",
     "collapsed": false,
     "input": [
      "import numpy\n",
      "a=2.75\n",
      "b=3.69\n",
      "c=8.55\n",
      "d=-6.13\n",
      "z1=a+b*1j\n",
      "z2=c+d*1j\n",
      "z3=z1*z2\n",
      "print z3"
     ],
     "language": "python",
     "metadata": {},
     "outputs": [
      {
       "output_type": "stream",
       "stream": "stdout",
       "text": [
        "(46.1322+14.692j)\n"
       ]
      }
     ],
     "prompt_number": 1
    },
    {
     "cell_type": "code",
     "collapsed": false,
     "input": [
      "z4=1.4*numpy.exp(5.32*1j)\n",
      "print z4"
     ],
     "language": "python",
     "metadata": {},
     "outputs": [
      {
       "output_type": "stream",
       "stream": "stdout",
       "text": [
        "(0.799270785858-1.1494199454j)\n"
       ]
      }
     ],
     "prompt_number": 4
    },
    {
     "cell_type": "code",
     "collapsed": false,
     "input": [
      "e=7.51\n",
      "f=-9.15\n",
      "g=4.43\n",
      "h=9.64\n",
      "z5=e+f*1j\n",
      "z6=g+h*1j\n",
      "z7=z5/z6\n",
      "print z7"
     ],
     "language": "python",
     "metadata": {},
     "outputs": [
      {
       "output_type": "stream",
       "stream": "stdout",
       "text": [
        "(-0.488089769845-1.00334415772j)\n"
       ]
      }
     ],
     "prompt_number": 6
    },
    {
     "cell_type": "code",
     "collapsed": false,
     "input": [],
     "language": "python",
     "metadata": {},
     "outputs": []
    }
   ],
   "metadata": {}
  }
 ]
}