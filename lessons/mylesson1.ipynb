{
 "metadata": {
  "name": "",
  "signature": "sha256:0f0d886b334304953f25c7a11b254dff8981ae5754c4e8246ac41caf418668fb"
 },
 "nbformat": 3,
 "nbformat_minor": 0,
 "worksheets": [
  {
   "cells": [
    {
     "cell_type": "code",
     "collapsed": false,
     "input": [
      "from math import *\n",
      "import numpy as np\n",
      "import matplotlib.pyplot as plt\n",
      "%matplotlib inline\n",
      "N=50\n",
      "x_start,x_end=-2.0,2.0\n",
      "y_start,y_end=-1.0,1.0\n",
      "x=np.linspace(x_start,x_end)\n",
      "y=np.linspace(y_start,y_end)\n",
      "X,Y=np.meshgrid(x,y)\n",
      "size=6\n",
      "plt.figure(figsize=(size,(y_end-y_start)/(x_end-x_start)*size))\n",
      "plt.xlabel('x',fontsize=16)\n",
      "plt.ylabel('y',fontsize=16)\n",
      "plt.xlim(x_start,x_end)\n",
      "plt.ylim(y_start,y_end)\n",
      "plt.scatter(X,Y,s=10,color='#CD2305',marker='o',linewidth=0)\n",
      "plt.show()"
     ],
     "language": "python",
     "metadata": {},
     "outputs": [
      {
       "metadata": {},
       "output_type": "display_data",
       "png": "[encoded data removed]",
       "text": [
        "<matplotlib.figure.Figure at 0x10aca6dd0>"
       ]
      }
     ],
     "prompt_number": 3
    },
    {
     "cell_type": "code",
     "collapsed": false,
     "input": [],
     "language": "python",
     "metadata": {},
     "outputs": []
    }
   ],
   "metadata": {}
  }
 ]
}