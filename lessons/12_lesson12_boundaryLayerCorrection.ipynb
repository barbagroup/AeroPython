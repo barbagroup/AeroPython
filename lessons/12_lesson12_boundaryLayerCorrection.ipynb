{
 "metadata": {
  "name": "",
  "signature": "sha256:7a6cc3531e93449f2a7e1b9c5aa5fe8b0a86e2f9893fa45d0d79e8448d59badb"
 },
 "nbformat": 3,
 "nbformat_minor": 0,
 "worksheets": [
  {
   "cells": [
    {
     "cell_type": "raw",
     "metadata": {},
     "source": [
      "Content provided under a Creative Commons Attribution license, CC-BY 4.0; code under MIT license. (c)2014 Lorena A. Barba, Olivier Mesnard. Thanks: Ian Carr and NSF for support via CAREER award #1149784."
     ]
    },
    {
     "cell_type": "markdown",
     "metadata": {},
     "source": [
      "[@LorenaABarba](https://twitter.com/LorenaABarba)"
     ]
    },
    {
     "cell_type": "heading",
     "level": 5,
     "metadata": {},
     "source": [
      "Version 0.1 -- May 2014"
     ]
    },
    {
     "cell_type": "heading",
     "level": 1,
     "metadata": {},
     "source": [
      "2D Source-vortex panel method with boundary-layer correction"
     ]
    },
    {
     "cell_type": "markdown",
     "metadata": {},
     "source": [
      "A *source-panel method* leads to a solution with no circulation, therefore no lift. The objective of this lesson is to start with the source panel method we implemented in the previous lesson and add some *circulation* so that we may have a lift force. We introduce an important concept: the **Kutta-condition** that allows us to determine what the right amount of circulation should be.\n",
      "\n",
      "In all prior notebooks we have neglected all viscous forces. This notebook will add a boundary layer correction to the potential flow code around a NACA0012 airfoil.\n",
      "\n",
      "In two dimensional flow around an airfoil one can consider the viscous effects to be confined to a thin layer on the surface. The boundary layer, as coined by Prandtl, is a region just above the surface where the frictional effects, caused by the no-slip condition, effect the flow tremedously. Outside the boundary layer the flow can be considered inviscid, hence potential flow theory applies. The impact of this concept by Prandtl, the boundary layer, on modern aerodynamics cannot be overstated. \n",
      "\n",
      "The boundary layer begins to grow the moment the flow comes in contact with the surface of the airfoil and continues to do so until the trailing edge. At a certain point in its evolution the boundary layer transitions from a laminar scheme to a turbulent one. To apply these concepts to the code we've been working with we will employ three methods: Thwaites', Michaels, and Heads. Thwaites' method applies to the laminar boundary layer, Michael's criterion determines the transition point, and Head's method applies to the turbulent boundary layer."
     ]
    },
    {
     "cell_type": "markdown",
     "metadata": {},
     "source": [
      "---"
     ]
    },
    {
     "cell_type": "heading",
     "level": 2,
     "metadata": {},
     "source": [
      "Discretizition of airfoil geometry"
     ]
    },
    {
     "cell_type": "markdown",
     "metadata": {},
     "source": [
      "Let's get the preliminaries out of the way. We need to import our favorite libraries, and the function `integrate` from SciPy, as in Lesson 10."
     ]
    },
    {
     "cell_type": "code",
     "collapsed": false,
     "input": [
      "from math import *\n",
      "import numpy as np\n",
      "from scipy import integrate\n",
      "import matplotlib.pyplot as plt"
     ],
     "language": "python",
     "metadata": {},
     "outputs": [],
     "prompt_number": 1
    },
    {
     "cell_type": "code",
     "collapsed": false,
     "input": [
      "# reads of the geometry from a data file\n",
      "with open ('../resources/naca0012.dat') as file_name:\n",
      "    x, y = np.loadtxt(file_name, dtype=float, delimiter='\\t', unpack=True)\n",
      "\n",
      "# plots the geometry\n",
      "%matplotlib inline\n",
      "\n",
      "val_x, val_y = 0.1, 0.2\n",
      "x_min, x_max = x.min(), x.max()\n",
      "y_min, y_max = y.min(), y.max()\n",
      "x_start, x_end = x_min-val_x*(x_max-x_min), x_max+val_x*(x_max-x_min)\n",
      "y_start, y_end = y_min-val_y*(y_max-y_min), y_max+val_y*(y_max-y_min)\n",
      "\n",
      "size = 10\n",
      "plt.figure(figsize=(size, (y_end-y_start)/(x_end-x_start)*size))\n",
      "plt.grid(True)\n",
      "plt.xlabel('x', fontsize=16)\n",
      "plt.ylabel('y', fontsize=16)\n",
      "plt.xlim(x_start, x_end)\n",
      "plt.ylim(y_start, y_end)\n",
      "plt.plot(x, y, color='k', linestyle='-', linewidth=2);"
     ],
     "language": "python",
     "metadata": {},
     "outputs": [
      {
       "metadata": {},
       "output_type": "display_data",
       "png": "[encoded data removed]",
       "text": [
        "<matplotlib.figure.Figure at 0x1061e5fd0>"
       ]
      }
     ],
     "prompt_number": 2
    },
    {
     "cell_type": "markdown",
     "metadata": {},
     "source": [
      "We define a class `Panel`  that will store all information about one panel: start and end points, center point, length, orientation, source strength, tangential velocity and pressure coefficient. We don't save the vortex-sheet strength because all panels will have the same value.As with both Lesson 10 and 11, we define the attributes of a panel with the class Panel."
     ]
    },
    {
     "cell_type": "code",
     "collapsed": false,
     "input": [
      "class Panel:\n",
      "    \"\"\"Contains information related to one panel.\"\"\"\n",
      "    def __init__(self, xa, ya, xb, yb):\n",
      "        \"\"\"Creates a panel.\n",
      "        \n",
      "        Arguments\n",
      "        ---------\n",
      "        xa, ya -- Cartesian coordinates of the first end-point.\n",
      "        xb, yb -- Cartesian coordinates of the second end-point.\n",
      "        \"\"\"\n",
      "        self.xa, self.ya = xa, ya\n",
      "        self.xb, self.yb = xb, yb\n",
      "        \n",
      "        self.xc, self.yc = (xa+xb)/2, (ya+yb)/2        # control-point (center-point)\n",
      "        self.length = sqrt((xb-xa)**2+(yb-ya)**2)     # length of the panel\n",
      "        \n",
      "        # orientation of the panel (angle between x-axis and panel's normal)\n",
      "        if xb-xa <= 0.:\n",
      "            self.beta = acos((self.yb-self.ya)/self.length)\n",
      "        elif xb-xa > 0.:\n",
      "            self.beta = pi + acos(-(self.yb-self.ya)/self.length)\n",
      "        \n",
      "        # location of the panel\n",
      "        if self.beta <= pi:\n",
      "            self.side = 'extrados'\n",
      "        else:\n",
      "            self.side = 'intrados'\n",
      "        \n",
      "        self.sigma = 0.                             # source strength\n",
      "        self.vt = 0.                                # tangential velocity\n",
      "        self.cp = 0.                                # pressure coefficient"
     ],
     "language": "python",
     "metadata": {},
     "outputs": [],
     "prompt_number": 3
    },
    {
     "cell_type": "markdown",
     "metadata": {},
     "source": [
      "Like before, we call the function `define_panels()` to discretize the airfoil geometry in `N` panels. The function will return a NumPy array of `N` objects of the type `Panel`."
     ]
    },
    {
     "cell_type": "code",
     "collapsed": false,
     "input": [
      "def define_panels(x, y, N=40):\n",
      "    \"\"\"Discretizes the geometry into panels using 'cosine' method.\n",
      "    \n",
      "    Arguments\n",
      "    ---------\n",
      "    x, y -- Cartesian coordinates of the geometry (1D arrays).\n",
      "    N - number of panels (default 40).\n",
      "    \n",
      "    Returns\n",
      "    -------\n",
      "    panels -- Numpy array of panels.\n",
      "    \"\"\"\n",
      "    R = (x.max()-x.min())/2                                    # radius of the circle\n",
      "    x_center = (x.max()+x.min())/2                             # x-coord of the center\n",
      "    x_circle = x_center + R*np.cos(np.linspace(0, 2*pi, N+1))  # x-coords of the circle\n",
      "    \n",
      "    x_ends = np.copy(x_circle)      # projection of the x-coords on the surface\n",
      "    y_ends = np.empty_like(x_ends)  # initialization of the y-coords Numpy array\n",
      "\n",
      "    x, y = np.append(x, x[0]), np.append(y, y[0])    # extend arrays using np.append\n",
      "    \n",
      "    # computes the y-coordinate of end-points\n",
      "    I = 0\n",
      "    for i in range(N):\n",
      "        while I < len(x)-1:\n",
      "            if (x[I] <= x_ends[i] <= x[I+1]) or (x[I+1] <= x_ends[i] <= x[I]):\n",
      "                break\n",
      "            else:\n",
      "                I += 1\n",
      "        a = (y[I+1]-y[I])/(x[I+1]-x[I])\n",
      "        b = y[I+1] - a*x[I+1]\n",
      "        y_ends[i] = a*x_ends[i] + b\n",
      "    y_ends[N] = y_ends[0]\n",
      "    \n",
      "    # creates panels\n",
      "    panels = np.empty(N, dtype=object)\n",
      "    for i in xrange(N):\n",
      "        panels[i] = Panel(x_ends[i], y_ends[i], x_ends[i+1], y_ends[i+1])\n",
      "    \n",
      "    return panels"
     ],
     "language": "python",
     "metadata": {},
     "outputs": [],
     "prompt_number": 4
    },
    {
     "cell_type": "markdown",
     "metadata": {},
     "source": [
      "Now we can use our new function to define the geometry for the airfoil panels, and then plot the panel nodes on the geometry."
     ]
    },
    {
     "cell_type": "code",
     "collapsed": false,
     "input": [
      "N = 80                           # number of panels\n",
      "panels = define_panels(x, y, N)  # discretizes of the geometry into N panels\n",
      "\n",
      "# plots the geometry and the panels\n",
      "val_x, val_y = 0.1, 0.2\n",
      "x_min, x_max = min( panel.xa for panel in panels ), max( panel.xa for panel in panels )\n",
      "y_min, y_max = min( panel.ya for panel in panels ), max( panel.ya for panel in panels )\n",
      "x_start, x_end = x_min-val_x*(x_max-x_min), x_max+val_x*(x_max-x_min)\n",
      "y_start, y_end = y_min-val_y*(y_max-y_min), y_max+val_y*(y_max-y_min)\n",
      "\n",
      "size = 10\n",
      "plt.figure(figsize=(size, (y_end-y_start)/(x_end-x_start)*size))\n",
      "plt.grid(True)\n",
      "plt.xlabel('x', fontsize=16)\n",
      "plt.ylabel('y', fontsize=16)\n",
      "plt.xlim(x_start, x_end)\n",
      "plt.ylim(y_start, y_end)\n",
      "plt.plot(x, y, color='k', linestyle='-', linewidth=2)\n",
      "plt.plot(np.append([panel.xa for panel in panels], panels[0].xa), \n",
      "         np.append([panel.ya for panel in panels], panels[0].ya), \n",
      "         linestyle='-', linewidth=1, marker='o', markersize=6, color='#CD2305');"
     ],
     "language": "python",
     "metadata": {},
     "outputs": [
      {
       "metadata": {},
       "output_type": "display_data",
       "png": "[encoded data removed]",
       "text": [
        "<matplotlib.figure.Figure at 0x1066c2510>"
       ]
      }
     ],
     "prompt_number": 5
    },
    {
     "cell_type": "markdown",
     "metadata": {},
     "source": [
      "---"
     ]
    },
    {
     "cell_type": "heading",
     "level": 2,
     "metadata": {},
     "source": [
      "Freestream conditions"
     ]
    },
    {
     "cell_type": "markdown",
     "metadata": {},
     "source": [
      "The airfoil is immersed in a free-stream ($U_\\infty$,$\\alpha$) where $U_\\infty$ and $\\alpha$ are the velocity magnitude and angle of attack, respectively. Like before, we create a class for the free stream, even though we will only have one object that uses this class. It makes it easier to pass the free stream to other functions later on."
     ]
    },
    {
     "cell_type": "code",
     "collapsed": false,
     "input": [
      "class Freestream:\n",
      "    \"\"\"Freestream conditions.\"\"\"\n",
      "    def __init__(self, u_inf=1.0, alpha=0.0):\n",
      "        \"\"\"Sets the freestream conditions.\n",
      "        \n",
      "        Arguments\n",
      "        ---------\n",
      "        u_inf -- Farfield speed (default 1.0).\n",
      "        alpha -- Angle of attack in degrees (default 0.0).\n",
      "        \"\"\"\n",
      "        self.u_inf = u_inf\n",
      "        self.alpha = alpha*pi/180          # degrees --> radians"
     ],
     "language": "python",
     "metadata": {},
     "outputs": [],
     "prompt_number": 6
    },
    {
     "cell_type": "code",
     "collapsed": false,
     "input": [
      "# defines and creates the object freestream\n",
      "u_inf = 1.0\n",
      "alpha = 0.0\n",
      "freestream = Freestream(u_inf, alpha)"
     ],
     "language": "python",
     "metadata": {},
     "outputs": [],
     "prompt_number": 7
    },
    {
     "cell_type": "markdown",
     "metadata": {},
     "source": [
      "---"
     ]
    },
    {
     "cell_type": "heading",
     "level": 2,
     "metadata": {},
     "source": [
      "Flow tangency condition"
     ]
    },
    {
     "cell_type": "markdown",
     "metadata": {},
     "source": [
      "A constant vortex strength $\\gamma$ will be added to each panel (all panels have the same, constant vortex-sheet strength). Thus, using the principle of superposition, the velocity potential becomes:\n",
      "\n",
      "$$\n",
      "\\begin{align*}\n",
      "\\phi\\left(x_{c_i},y_{c_i}\\right) &= V_\\infty x_{c_i} \\cos \\alpha + V_\\infty y_{c_i} \\sin \\alpha \\\\\n",
      "&+ \\sum_{j=1}^N \\frac{\\sigma_j}{2\\pi} \\int_j \\ln \\left(\\sqrt{(x_{c_i}-x_j(s_j))^2+(y_{c_i}-y_j(s_j))^2} \\right) {\\rm d}s_j \\\\\n",
      "&- \\sum_{j=1}^N \\frac{\\gamma}{2\\pi} \\int_j \\tan^{-1} \\left(\\frac{y_{c_i}-y_j(s_j)}{x_{c_i}-x_j(s_j)}\\right) {\\rm d}s_j\n",
      "\\end{align*}\n",
      "$$"
     ]
    },
    {
     "cell_type": "markdown",
     "metadata": {},
     "source": [
      "We already worked the first integral in the previous lesson:\n",
      "\n",
      "$$\\frac{\\partial}{\\partial n_i} \\ln \\left(\\sqrt{(x_{c_i}-x_j(s_j))^2+(y_{c_i}-y_j(s_j))^2} \\right) = \\frac{\\left(x_{c_i}-x_j\\right)\\frac{\\partial x_{c_i}}{\\partial n_i} + \\left(y_{c_i}-y_j\\right)\\frac{\\partial y_{c_i}}{\\partial n_i}}{\\left(x_{c_i}-x_j\\right)^2 + \\left(x_{c_i}-x_j\\right)^2}$$\n",
      "\n",
      "where $\\frac{\\partial x_{c_i}}{\\partial n_i} = \\cos \\beta_i$ and $\\frac{\\partial y_{c_i}}{\\partial n_i} = \\sin \\beta_i$, and:\n",
      "\n",
      "$$x_j(s_j) = x_{b_j} - s_j \\sin \\beta_j$$\n",
      "\n",
      "$$y_j(s_j) = y_{b_j} + s_j \\cos \\beta_j$$\n",
      "\n",
      "We now need to derive the last integral of the boundary equation:\n",
      "\n",
      "$$\\frac{\\partial}{\\partial n_i} \\tan^{-1} \\left(\\frac{y_{c_i}-y_j(s_j)}{x_{c_i}-x_j(s_j)}\\right)= \\frac{\\left(x_{c_i}-x_j\\right)\\frac{\\partial y_{c_i}}{\\partial n_i} - \\left(y_{c_i}-y_j\\right)\\frac{\\partial x_{c_i}}{\\partial n_i}}{\\left(x_{c_i}-x_j\\right)^2 + \\left(y_{c_i}-y_j\\right)^2}$$\n",
      "\n",
      "where $\\frac{\\partial x_{c_i}}{\\partial n_i} = \\cos \\beta_i$ and $\\frac{\\partial y_{c_i}}{\\partial n_i} = \\sin \\beta_i$."
     ]
    },
    {
     "cell_type": "markdown",
     "metadata": {},
     "source": [
      "---"
     ]
    },
    {
     "cell_type": "heading",
     "level": 2,
     "metadata": {},
     "source": [
      "Kutta-condition"
     ]
    },
    {
     "cell_type": "markdown",
     "metadata": {},
     "source": [
      "To enforce the *Kutta-condition*, we state that the pressure coefficient on the fisrt panel must be equal to that on the last panel:\n",
      "\n",
      "$$C_{p_1} = C_{p_{N}}$$\n",
      "\n",
      "Using the definition of the pressure coefficient $C_p = 1-\\left(\\frac{V}{U_\\infty}\\right)^2$, the Kutta-condition implies that the magnitude of the velocity at the first panel center must equal the magnitude of the last panel center:\n",
      "\n",
      "$$V_1^2 = V_N^2$$\n",
      "\n",
      "Since the flow tangency condition requires that $V_{n_1} = V_{n_N} = 0$, we end up with the following *Kutta-condition*:\n",
      "\n",
      "$$V_{t_1} = - V_{t_N}$$\n",
      "\n",
      "(the minus sign comes from the reference axis we chose for the normal and tangential vectors)."
     ]
    },
    {
     "cell_type": "markdown",
     "metadata": {},
     "source": [
      "Therefore, we need to evaluate the tangential velocity at the first and last panels. Let's derive it for every panel, since it will be useful to compute the pressure coefficient.\n",
      "\n",
      "$$V_{t_i} = \\frac{\\partial}{\\partial t_i} \\left(\\phi\\left(x_{c_i},y_{c_i}\\right)\\right)$$\n",
      "\n",
      "i.e.,\n",
      "\n",
      "$$\n",
      "\\begin{align*}\n",
      "V_{t_i} &= V_\\infty \\sin \\left(\\alpha-\\beta_i\\right) \\\\\n",
      "&+ \\sum_{j=1,j\\neq i}^N \\frac{\\sigma_j}{2\\pi} \\int_j \\frac{\\partial}{\\partial t_i} \\ln \\left(\\sqrt{(x_{c_i}-x_j(s_j))^2+(y_{c_i}-y_j(s_j))^2} \\right) {\\rm d}s_j \\\\\n",
      "&- \\sum_{j=1,j\\neq i}^N \\frac{\\gamma}{2\\pi} \\int_j \\frac{\\partial}{\\partial t_i} \\tan^{-1} \\left(\\frac{y_{c_i}-y_j(s_j)}{x_{c_i}-x_j(s_j)}\\right) {\\rm d}s_j\n",
      "\\end{align*}\n",
      "$$\n",
      "\n",
      "\n",
      "which gives\n",
      "\n",
      "$$\n",
      "\\begin{align*}\n",
      "V_{t_i} &= V_\\infty \\sin \\left(\\alpha-\\beta_i\\right) \\\\\n",
      "&+ \\sum_{j=1,j\\neq i}^N \\frac{\\sigma_j}{2\\pi} \\int_j \\frac{\\left(x_{c_i}-x_j\\right)\\frac{\\partial x_{c_i}}{\\partial t_i} + \\left(y_{c_i}-y_j\\right)\\frac{\\partial y_{c_i}}{\\partial t_i}}{\\left(x_{c_i}-x_j\\right)^2 + \\left(x_{c_i}-x_j\\right)^2} {\\rm d}s_j \\\\\n",
      "&- \\sum_{j=1,j\\neq i}^N \\frac{\\gamma}{2\\pi} \\int_j \\frac{\\left(x_{c_i}-x_j\\right)\\frac{\\partial y_{c_i}}{\\partial t_i} - \\left(y_{c_i}-y_j\\right)\\frac{\\partial x_{c_i}}{\\partial t_i}}{\\left(x_{c_i}-x_j\\right)^2 + \\left(x_{c_i}-x_j\\right)^2} {\\rm d}s_j \n",
      "\\end{align*}\n",
      "$$\n",
      "\n",
      "where $\\frac{\\partial x_{c_i}}{\\partial t_i} = -\\sin \\beta_i$ and $\\frac{\\partial y_{c_i}}{\\partial t_i} = \\cos \\beta_i$"
     ]
    },
    {
     "cell_type": "markdown",
     "metadata": {},
     "source": [
      "---"
     ]
    },
    {
     "cell_type": "heading",
     "level": 2,
     "metadata": {},
     "source": [
      "Building the linear system"
     ]
    },
    {
     "cell_type": "markdown",
     "metadata": {},
     "source": [
      "Here, we build and solve the linear system of equations of the form\n",
      "\n",
      "$$[A][\\sigma,\\gamma] = [b]$$\n",
      "\n",
      "where the $N+1 \\times N+1$ matrix $[A]$ contains three blocks: an $N \\times N$ source matrix (the same one of Lesson 10), an $N \\times 1$ vortex array to store the weight of the variable $\\gamma$ at each panel, and a $1 \\times N+1$ Kutta array that repesents our Kutta-condition."
     ]
    },
    {
     "cell_type": "markdown",
     "metadata": {},
     "source": [
      "We are going to re-use the function `integral()` from Lesson 10 to compute the different integrals with the NumPy function `integrate.quad()`:"
     ]
    },
    {
     "cell_type": "code",
     "collapsed": false,
     "input": [
      "def integral(x, y, panel, dxdz, dydz):\n",
      "    \"\"\"Evaluates the contribution of a panel at one point.\n",
      "    \n",
      "    Arguments\n",
      "    ---------\n",
      "    x, y -- Cartesian coordinates of the point.\n",
      "    panel -- panel which contribution is evaluated.\n",
      "    dxdz -- derivative of x in the z-direction.\n",
      "    dydz -- derivative of y in the z-direction.\n",
      "    \n",
      "    Returns\n",
      "    -------\n",
      "    Integral over the panel of the influence at one point.\n",
      "    \"\"\"\n",
      "    def func(s):\n",
      "        return ( ((x - (panel.xa-sin(panel.beta)*s))*dxdz\n",
      "                  + (y - (panel.ya+cos(panel.beta)*s))*dydz)\n",
      "                / ((x - (panel.xa-sin(panel.beta)*s))**2\n",
      "                   + (y - (panel.ya+cos(panel.beta)*s))**2) )\n",
      "    return integrate.quad(lambda s:func(s), 0.0, panel.length)[0]"
     ],
     "language": "python",
     "metadata": {},
     "outputs": [],
     "prompt_number": 8
    },
    {
     "cell_type": "markdown",
     "metadata": {},
     "source": [
      "We first build the source matrix:"
     ]
    },
    {
     "cell_type": "code",
     "collapsed": false,
     "input": [
      "def source_matrix(panels):\n",
      "    \"\"\"Builds the source matrix.\n",
      "    \n",
      "    Arguments\n",
      "    ---------\n",
      "    panels -- array of panels.\n",
      "    \n",
      "    Returns\n",
      "    -------\n",
      "    A -- NxN matrix (N is the number of panels).\n",
      "    \"\"\"\n",
      "    N = len(panels)\n",
      "    A = np.empty((N, N), dtype=float)\n",
      "    np.fill_diagonal(A, 0.5)\n",
      "    \n",
      "    for i, p_i in enumerate(panels):\n",
      "        for j, p_j in enumerate(panels):\n",
      "            if i != j:\n",
      "                A[i,j] = 0.5/pi*integral(p_i.xc, p_i.yc, p_j, cos(p_i.beta), sin(p_i.beta))\n",
      "    \n",
      "    return A"
     ],
     "language": "python",
     "metadata": {},
     "outputs": [],
     "prompt_number": 9
    },
    {
     "cell_type": "markdown",
     "metadata": {},
     "source": [
      "then the vortex array:"
     ]
    },
    {
     "cell_type": "code",
     "collapsed": false,
     "input": [
      "def vortex_array(panels):\n",
      "    \"\"\"Builds the vortex array.\n",
      "    \n",
      "    Arguments\n",
      "    ---------\n",
      "    panels - array of panels.\n",
      "    \n",
      "    Returns\n",
      "    -------\n",
      "    a -- 1D array (Nx1, N is the number of panels).\n",
      "    \"\"\"\n",
      "    a = np.zeros(len(panels), dtype=float)\n",
      "    \n",
      "    for i, p_i in enumerate(panels):\n",
      "        for j, p_j in enumerate(panels):\n",
      "            if i != j:\n",
      "                a[i] -= 0.5/pi*integral(p_i.xc, p_i.yc, p_j, +sin(p_i.beta), -cos(p_i.beta))\n",
      "    \n",
      "    return a"
     ],
     "language": "python",
     "metadata": {},
     "outputs": [],
     "prompt_number": 10
    },
    {
     "cell_type": "markdown",
     "metadata": {},
     "source": [
      "and finally the Kutta array:"
     ]
    },
    {
     "cell_type": "code",
     "collapsed": false,
     "input": [
      "def kutta_array(panels):\n",
      "    \"\"\"Builds the Kutta-condition array.\n",
      "    \n",
      "    Arguments\n",
      "    ---------\n",
      "    panels -- array of panels.\n",
      "    \n",
      "    Returns\n",
      "    -------\n",
      "    a -- 1D array (Nx1, N is the number of panels).\n",
      "    \"\"\"\n",
      "    N = len(panels)\n",
      "    a = np.empty(N+1, dtype=float)\n",
      "    a[N] = 0.0\n",
      "    \n",
      "    a[0] = 0.5/pi*integral(panels[N-1].xc, panels[N-1].yc, panels[0], \n",
      "                           -sin(panels[N-1].beta), +cos(panels[N-1].beta))\n",
      "    a[N-1] = 0.5/pi*integral(panels[0].xc, panels[0].yc, panels[N-1], \n",
      "                             -sin(panels[0].beta), +cos(panels[0].beta))\n",
      "    \n",
      "    for i, panel in enumerate(panels[1:N-1]):\n",
      "        a[i] = 0.5/pi*(integral(panels[0].xc, panels[0].yc, panel, \n",
      "                               -sin(panels[0].beta), +cos(panels[0].beta))\n",
      "                     + integral(panels[N-1].xc, panels[N-1].yc, panel, \n",
      "                               -sin(panels[N-1].beta), +cos(panels[N-1].beta)) )\n",
      "\n",
      "        a[N] -= 0.5/pi*(integral(panels[0].xc, panels[0].yc, panel, \n",
      "                               +cos(panels[0].beta), +sin(panels[0].beta))\n",
      "                     + integral(panels[N-1].xc, panels[N-1].yc, panel, \n",
      "                               +cos(panels[N-1].beta), +sin(panels[N-1].beta)) )\n",
      "    \n",
      "    return a"
     ],
     "language": "python",
     "metadata": {},
     "outputs": [],
     "prompt_number": 11
    },
    {
     "cell_type": "markdown",
     "metadata": {},
     "source": [
      "Now that the three blocks have be defined, we can assemble the matrix $[A]$:"
     ]
    },
    {
     "cell_type": "code",
     "collapsed": false,
     "input": [
      "def build_matrix(panels):\n",
      "    \"\"\"Builds the matrix of the linear system.\n",
      "    \n",
      "    Arguments\n",
      "    ---------\n",
      "    panels -- array of panels.\n",
      "    \n",
      "    Returns\n",
      "    -------\n",
      "    A -- (N+1)x(N+1) matrix (N is the number of panels).\n",
      "    \"\"\"\n",
      "    N = len(panels)\n",
      "    A = np.empty((N+1, N+1), dtype=float)\n",
      "    \n",
      "    AS = source_matrix(panels)\n",
      "    av = vortex_array(panels)\n",
      "    ak = kutta_array(panels)\n",
      "    \n",
      "    A[0:N,0:N], A[0:N,N], A[N,:] = AS[:,:], av[:], ak[:]\n",
      "    \n",
      "    return A"
     ],
     "language": "python",
     "metadata": {},
     "outputs": [],
     "prompt_number": 12
    },
    {
     "cell_type": "markdown",
     "metadata": {},
     "source": [
      "On the right hand-side, we store the free-stream conditions that do not depend on the unknowns strengths:"
     ]
    },
    {
     "cell_type": "code",
     "collapsed": false,
     "input": [
      "def build_rhs(panels, freestream):\n",
      "    \"\"\"Builds the RHS of the linear system.\n",
      "    \n",
      "    Arguments\n",
      "    ---------\n",
      "    panels -- array of panels.\n",
      "    freestream -- farfield conditions.\n",
      "    \n",
      "    Returns\n",
      "    -------\n",
      "    b -- 1D array ((N+1)x1, N is the number of panels).\n",
      "    \"\"\"\n",
      "    N = len(panels)\n",
      "    b = np.empty(N+1,dtype=float)\n",
      "    \n",
      "    for i, panel in enumerate(panels):\n",
      "        b[i] = - freestream.u_inf * cos(freestream.alpha - panel.beta)\n",
      "    b[N] = -freestream.u_inf*( sin(freestream.alpha-panels[0].beta)\n",
      "                              +sin(freestream.alpha-panels[N-1].beta) )\n",
      "    \n",
      "    return b"
     ],
     "language": "python",
     "metadata": {},
     "outputs": [],
     "prompt_number": 13
    },
    {
     "cell_type": "markdown",
     "metadata": {},
     "source": [
      "All in all, the system has been defined with the functions `source_matrix()`, `vortex_array()`, `kutta_array()` and `build_rhs()`, which we have to call to build the complete system:"
     ]
    },
    {
     "cell_type": "code",
     "collapsed": false,
     "input": [
      "A = build_matrix(panels)                  # computes the singularity matrix\n",
      "b = build_rhs(panels, freestream)         # computes the RHS array"
     ],
     "language": "python",
     "metadata": {},
     "outputs": [],
     "prompt_number": 14
    },
    {
     "cell_type": "markdown",
     "metadata": {},
     "source": [
      "---"
     ]
    },
    {
     "cell_type": "heading",
     "level": 2,
     "metadata": {},
     "source": [
      "Solving the linear system"
     ]
    },
    {
     "cell_type": "markdown",
     "metadata": {},
     "source": [
      "The linear system is then solved using the NumPy function `linalg.solve()`and we store the results in the attribute `sigma` of each object. We also create a variable `gamma` to store the value of the constant vortex strength. "
     ]
    },
    {
     "cell_type": "code",
     "collapsed": false,
     "input": [
      "# solves the linear system\n",
      "variables = np.linalg.solve(A, b)\n",
      "\n",
      "for i, panel in enumerate(panels):\n",
      "\tpanel.sigma = variables[i]\n",
      "gamma = variables[-1]"
     ],
     "language": "python",
     "metadata": {},
     "outputs": [],
     "prompt_number": 15
    },
    {
     "cell_type": "markdown",
     "metadata": {},
     "source": [
      "---"
     ]
    },
    {
     "cell_type": "heading",
     "level": 2,
     "metadata": {},
     "source": [
      "Surface pressure coefficient"
     ]
    },
    {
     "cell_type": "markdown",
     "metadata": {},
     "source": [
      "The pressure coefficient at the $i$-th panel center is:\n",
      "\n",
      "$$C_{p_i} = 1 - \\left(\\frac{V_{t_i}}{U_\\infty}\\right)^2$$\n",
      "\n",
      "So, we have to compute the tangential velocity at each panel center using the function `get_tangential_velocity()`:"
     ]
    },
    {
     "cell_type": "code",
     "collapsed": false,
     "input": [
      "def get_tangential_velocity(panels, freestream, gamma):\n",
      "    \"\"\"Computes the tangential velocity on the surface.\n",
      "    \n",
      "    Arguments\n",
      "    ---------\n",
      "    panels -- array of panels.\n",
      "    freestream -- farfield conditions.\n",
      "    gamma -- circulation density.\n",
      "    \"\"\"\n",
      "    N = len(panels)\n",
      "    A = np.empty((N, N+1), dtype=float)\n",
      "    np.fill_diagonal(A, 0.0)\n",
      "    A[:,N] = 0.0\n",
      "    \n",
      "    for i, p_i in enumerate(panels):\n",
      "        for j, p_j in enumerate(panels):\n",
      "            if i != j:\n",
      "                A[i,j] = 0.5/pi*integral(p_i.xc, p_i.yc, p_j, -sin(p_i.beta), +cos(p_i.beta))\n",
      "                A[i,N] -= 0.5/pi*integral(p_i.xc, p_i.yc, p_j, +cos(p_i.beta), +sin(p_i.beta))\n",
      "\n",
      "    b = freestream.u_inf * np.sin([freestream.alpha - panel.beta for panel in panels])\n",
      "    \n",
      "    var = np.append([panel.sigma for panel in panels], gamma)\n",
      "    \n",
      "    vt = np.dot(A, var) + b\n",
      "    \n",
      "    for i, panel in enumerate(panels):\n",
      "        panel.vt = vt[i]"
     ],
     "language": "python",
     "metadata": {},
     "outputs": [],
     "prompt_number": 16
    },
    {
     "cell_type": "code",
     "collapsed": false,
     "input": [
      "# computes the tangential velocity at each panel center.\n",
      "get_tangential_velocity(panels, freestream, gamma)"
     ],
     "language": "python",
     "metadata": {},
     "outputs": [],
     "prompt_number": 17
    },
    {
     "cell_type": "code",
     "collapsed": false,
     "input": [
      "def get_pressure_coefficient(panels, freestream):\n",
      "    \"\"\"Computes the surface pressure coefficients.\n",
      "    \n",
      "    Arguments\n",
      "    ---------\n",
      "    panels -- array of panels.\n",
      "    freestream -- farfield conditions.\n",
      "    \"\"\"\n",
      "    for panel in panels:\n",
      "        panel.cp = 1.0 - (panel.vt/freestream.u_inf)**2"
     ],
     "language": "python",
     "metadata": {},
     "outputs": [],
     "prompt_number": 18
    },
    {
     "cell_type": "code",
     "collapsed": false,
     "input": [
      "# computes surface pressure coefficients\n",
      "get_pressure_coefficient(panels, freestream)"
     ],
     "language": "python",
     "metadata": {},
     "outputs": [],
     "prompt_number": 19
    },
    {
     "cell_type": "code",
     "collapsed": false,
     "input": [
      "# plots the surface pressure coefficients\n",
      "val_x, val_y = 0.1, 0.2\n",
      "x_min, x_max = min(panel.xa for panel in panels), max(panel.xa for panel in panels)\n",
      "cp_min, cp_max = min(panel.cp for panel in panels), max(panel.cp for panel in panels)\n",
      "x_start, x_end = x_min-val_x*(x_max-x_min), x_max+val_x*(x_max-x_min)\n",
      "y_start, y_end = cp_min-val_y*(cp_max-cp_min), cp_max+val_y*(cp_max-cp_min)\n",
      "\n",
      "plt.figure(figsize=(10, 6))\n",
      "plt.grid(True)\n",
      "plt.xlabel('x', fontsize=16)\n",
      "plt.ylabel('$C_p$', fontsize=16)\n",
      "plt.plot([panel.xc for panel in panels if panel.side == 'extrados'], \n",
      "         [panel.cp for panel in panels if panel.side == 'extrados'], \n",
      "         color='r', linestyle='-', linewidth=2, marker='o', markersize=6)\n",
      "plt.plot([panel.xc for panel in panels if panel.side == 'intrados'], \n",
      "         [panel.cp for panel in panels if panel.side == 'intrados'], \n",
      "         color='b', linestyle='-', linewidth=1, marker='o', markersize=6)\n",
      "plt.legend(['extrados', 'intrados'], loc='best', prop={'size':14})\n",
      "plt.xlim(x_start, x_end)\n",
      "plt.ylim(y_start, y_end)\n",
      "plt.gca().invert_yaxis()\n",
      "plt.title('Number of panels : %d' % N);"
     ],
     "language": "python",
     "metadata": {},
     "outputs": [
      {
       "metadata": {},
       "output_type": "display_data",
       "png": "[encoded data removed]",
       "text": [
        "<matplotlib.figure.Figure at 0x1066b88d0>"
       ]
      }
     ],
     "prompt_number": 20
    },
    {
     "cell_type": "markdown",
     "metadata": {},
     "source": [
      "---"
     ]
    },
    {
     "cell_type": "heading",
     "level": 2,
     "metadata": {},
     "source": [
      "Accuracy check"
     ]
    },
    {
     "cell_type": "markdown",
     "metadata": {},
     "source": [
      "For a closed body, the sum of all the source strengths must be zero. If not, it means the body would be adding or absorbing mass from the flow! Therfore, we should have\n",
      "\n",
      "$$\\sum_{i=1}^{N} \\sigma_i l_i = 0$$\n",
      "\n",
      "where $l_i$ is the length of the $i^{\\text{th}}$ panel.\n",
      "\n",
      "With this, we can get a measure of the accuracy of the source panel method."
     ]
    },
    {
     "cell_type": "code",
     "collapsed": false,
     "input": [
      "# calculates the accuracy\n",
      "accuracy = sum(panel.sigma*panel.length for panel in panels)\n",
      "print '--> sum of source/sink strengths:', accuracy"
     ],
     "language": "python",
     "metadata": {},
     "outputs": [
      {
       "output_type": "stream",
       "stream": "stdout",
       "text": [
        "--> sum of source/sink strengths: 0.00197648461643\n"
       ]
      }
     ],
     "prompt_number": 21
    },
    {
     "cell_type": "markdown",
     "metadata": {},
     "source": [
      "---"
     ]
    },
    {
     "cell_type": "heading",
     "level": 2,
     "metadata": {},
     "source": [
      "Lift coefficient"
     ]
    },
    {
     "cell_type": "markdown",
     "metadata": {},
     "source": [
      "The lift  is given by the Kutta-Joukowski theorem, $L = \\rho \\Gamma U_\\infty$, \n",
      "where $\\rho$ is the fluid density. The total circulation $\\Gamma$ is given by:\n",
      "\n",
      "$$\\Gamma = \\sum_{i=1}^N \\gamma l_i$$\n",
      "\n",
      "Finally, the lift coefficient is given by:\n",
      "\n",
      "$$C_l = \\frac{\\sum_{i=1}^N \\gamma l_i}{\\frac{1}{2}U_\\infty c}$$\n",
      "\n",
      " with $c$ the chord-length of the airoil"
     ]
    },
    {
     "cell_type": "code",
     "collapsed": false,
     "input": [
      "# calculates of the lift\n",
      "cl = gamma*sum(panel.length for panel in panels)/(0.5*freestream.u_inf*(x_max-x_min))\n",
      "print '--> Lift coefficient: Cl = %.3f' % cl"
     ],
     "language": "python",
     "metadata": {},
     "outputs": [
      {
       "output_type": "stream",
       "stream": "stdout",
       "text": [
        "--> Lift coefficient: Cl = 0.008\n"
       ]
      }
     ],
     "prompt_number": 22
    },
    {
     "cell_type": "markdown",
     "metadata": {},
     "source": [
      "---"
     ]
    },
    {
     "cell_type": "heading",
     "level": 2,
     "metadata": {},
     "source": [
      "Boundary Layer Calculation"
     ]
    },
    {
     "cell_type": "markdown",
     "metadata": {},
     "source": [
      "To calculate the boundary layer in the laminar region, we use Thwaites' method. The laminar/tubulent transition is prediction with Michel's criterion. Finally, the turbulent boundary layer is solved using Head's method."
     ]
    },
    {
     "cell_type": "markdown",
     "metadata": {},
     "source": [
      "We start by finding the stagnation point on the surface near the leading edge with the function `find_stagnation()`. The function return the coordinates of the stagnation point (`x_stagn`, `y_stagn`) and the index of the station `I` just after the stagnation point."
     ]
    },
    {
     "cell_type": "code",
     "collapsed": false,
     "input": [
      "def find_stagnation(panels):\n",
      "    \"\"\"Finds the stagnation point.\n",
      "    \n",
      "    Arguments\n",
      "    ---------\n",
      "    panels -- array of panels.\n",
      "    \n",
      "    Returns\n",
      "    -------\n",
      "    I -- index of the pannel control-point just after the stagnation point.\n",
      "    x_stagn, y_stagn -- Cartesian coordinates of the stagnation point.\n",
      "    \"\"\"\n",
      "    I = 0\n",
      "    for i, panel in enumerate(panels):\n",
      "        if panel.vt/panels[0].vt < 0.0:\n",
      "            I = i\n",
      "            break\n",
      "\n",
      "    # station before stagnation point\n",
      "    vt1, x1, y1 = panels[I-1].vt, panels[I-1].xc, panels[I-1].yc\n",
      "    # station after stagnation point\n",
      "    vt2, x2, y2 = panels[I].vt, panels[I].xc, panels[I].yc\n",
      "    \n",
      "    # interpolation to find stagnation point\n",
      "    x_stagn, y_stagn = x1-vt1*(x2-x1)/(vt2-vt1), y1-vt1*(y2-y1)/(vt2-vt1)\n",
      "    \n",
      "    return I, x_stagn, y_stagn"
     ],
     "language": "python",
     "metadata": {},
     "outputs": [],
     "prompt_number": 23
    },
    {
     "cell_type": "code",
     "collapsed": false,
     "input": [
      "# computes the stagnation point\n",
      "I, x_stagn, y_stagn = find_stagnation(panels)\n",
      "\n",
      "# plots the geometry and the stagnation point\n",
      "val_x, val_y = 0.1, 0.2\n",
      "x_min, x_max = x.min(), x.max()\n",
      "y_min, y_max = y.min(), y.max()\n",
      "x_start, x_end = x_min-val_x*(x_max-x_min), x_max+val_x*(x_max-x_min)\n",
      "y_start, y_end = y_min-val_y*(y_max-y_min), y_max+val_y*(y_max-y_min)\n",
      "\n",
      "size = 10\n",
      "plt.figure(figsize=(size, (y_end-y_start)/(x_end-x_start)*size))\n",
      "plt.grid(True)\n",
      "plt.xlabel('x', fontsize=16)\n",
      "plt.ylabel('y', fontsize=16)\n",
      "plt.xlim(x_start, x_end)\n",
      "plt.ylim(y_start, y_end)\n",
      "plt.plot(x, y, color='k', linestyle='-', linewidth=1)\n",
      "plt.scatter(x_stagn, y_stagn, s=40, color='r', marker='o', linewidth=0)\n",
      "plt.title('Stagnation point', fontsize=16);"
     ],
     "language": "python",
     "metadata": {},
     "outputs": [
      {
       "metadata": {},
       "output_type": "display_data",
       "png": "[encoded data removed]",
       "text": [
        "<matplotlib.figure.Figure at 0x1066cfe90>"
       ]
      }
     ],
     "prompt_number": 24
    },
    {
     "cell_type": "heading",
     "level": 3,
     "metadata": {},
     "source": [
      "Description of the algorithm implemented"
     ]
    },
    {
     "cell_type": "markdown",
     "metadata": {},
     "source": [
      "The boundary layer calculation has been embeded in a single class `BoundaryLayer`. The constructor of the class builds the running coordinate `s` along a boundary, stores the edge velocity from the source-vortex panel method described above and calculates the velocity gradient.\n",
      "\n",
      "For each instance of the class `BoundaryLayer`, we start by calculating the momentum thickness `theta`, the shape factor `H` and the friction coefficient `cf` by integration along the boundary, marching from the stagnation point (using a 4th-order Runge-Kutta method).\n",
      "\n",
      "The process starts with Thwaites' method (class' method `solve_laminar()`). After each station, Michel's criterion is applied to check is laminar/turbulent transition happened (class' method `transition_prediction()`). If we are still in the laminar region, Thwaites' method is applied to the next station. If we are now in the turbulent region, Head's method is used to continue the integration along the boundary (class' method `solve_turbulent()`).\n",
      "\n",
      "After having solved for the momentum thickness, the shape factor and the friction coefficient, the displacement thickness is calculated and plotted (class' method `displacement_thickness()`).\n"
     ]
    },
    {
     "cell_type": "heading",
     "level": 3,
     "metadata": {},
     "source": [
      "Thwaites' Method for Laminar Boundary Layer"
     ]
    },
    {
     "cell_type": "markdown",
     "metadata": {},
     "source": [
      "Thwaites' method relies on the momentum integral equation but makes no assumption on the form of the velocity profile.\n",
      "\n",
      "The method supplements the momentum integral equation with algebraic relations among the unknowns $\\theta$ (momentum thickness), $H$ (shape factor) and $c_f$ (skin friction coefficient).\n",
      "\n",
      "The method introduces the parameter $l$:\n",
      "\n",
      "$$l \\equiv \\frac{1}{2} Re_{\\theta} c_f$$\n",
      "\n",
      "where $Re_{\\theta} = \\frac{u_e \\theta}{\\nu}$ is the Reynolds number based on the momentum thickness.\n",
      "\n",
      "Since the skin friction coefficient $c_f$ is a strong function of the Reynolds number, this new paramter $l$ becomes less dependent of the Reynolds number.\n",
      "\n",
      "The momentum integral equation is multiplied by $Re_{\\theta}$ to get:\n",
      "\n",
      "$$Re_{\\theta} \\frac{d\\theta}{ds} + Re_{\\theta} (2+H) \\frac{\\theta}{u_e} \\frac{du_e}{ds} = l$$\n",
      "\n",
      "Thwiates defined a dimensionless pressure-gradient parameter:\n",
      "\n",
      "$$\\lambda \\equiv \\frac{\\theta^2}{\\nu} \\frac{du_e}{ds}$$\n",
      "\n",
      "so that the modified momentum integral relation becomes:\n",
      "\n",
      "$$\\frac{u_e}{\\nu}\\frac{du_e^2}{ds} = 2 \\left( l - (2+H) \\lambda \\right)$$\n",
      "\n",
      "\n",
      "Thwaites approximated the right hand-side with the linear formula:\n",
      "\n",
      "$$2 \\left( l - (2+H) \\lambda \\right) \\approx 0.45 - 6\\lambda$$\n",
      "\n",
      "that, when used, leads to the following equation:\n",
      "\n",
      "$$\\frac{d}{ds} \\left( \\theta^2 u_e^6 \\right) = 0.45 \\frac{u_e^5}{\\nu}$$"
     ]
    },
    {
     "cell_type": "markdown",
     "metadata": {},
     "source": [
      "The above equation can be numerically solved to get the momentum thickness (in the laminar region), using a 4th-order Runge-Kutta method with the given initial condition:\n",
      "\n",
      "$$ \\theta(s=0) = \\sqrt{\\frac{0.075\\nu}{\\frac{du_e}{ds}(0)}} $$"
     ]
    },
    {
     "cell_type": "markdown",
     "metadata": {},
     "source": [
      "Then, the pressure-gradient parameter $\\lambda$ can be calculated.\n",
      "\n",
      "Finally, the shape factor $H$ and the skin friction coefficient $c_f = \\frac{2l}{Re_{\\theta}}$ are calculated using correlations from Cebecci and Bradshaw:\n",
      "\n",
      "$$ H(\\lambda) = 2.61 - 3.75 \\lambda + 5.24 \\lambda^2 \\quad\\quad \\text{if} \\quad 0 < \\lambda < 0.1 $$\n",
      "\n",
      "$$ H(\\lambda) = 2.088 + \\frac{0.0731}{\\lambda+0.14} \\quad\\quad \\text{if} \\quad -0.1 < \\lambda < 0 $$\n",
      "\n",
      "and\n",
      "\n",
      "$$ l(\\lambda) = 0.22 + 1.57\\lambda -1.8 \\lambda^2 \\quad\\quad \\text{if} \\quad 0 < \\lambda < 0.1 $$\n",
      "\n",
      "$$ l(\\lambda) = 0.22 + 1.402\\lambda +\\frac{0.018\\lambda}{\\lambda+ 0.107} \\quad\\quad \\text{if}\\quad -0.1 < \\lambda < 0 $$"
     ]
    },
    {
     "cell_type": "heading",
     "level": 3,
     "metadata": {},
     "source": [
      "Michel's Transition Criterion"
     ]
    },
    {
     "cell_type": "markdown",
     "metadata": {},
     "source": [
      "The laminar/turbulent transition point is determined using Michel's criterion which states that transition occurs in the boundary layer when:\n",
      "\n",
      "$$ Re_{\\theta} \\geq 1.174 \\left( Re_s^{0.46} + 22,400 Re_s^{-0.54} \\right) $$\n",
      "\n",
      "where $Re_s = \\frac{u_e s}{\\nu}$ is the Reynolds number based on the position along the airfoil ($s$ is the running coordinate)."
     ]
    },
    {
     "cell_type": "heading",
     "level": 3,
     "metadata": {},
     "source": [
      "Head's Entrainment Method for Turbulent Boundary Layers"
     ]
    },
    {
     "cell_type": "markdown",
     "metadata": {},
     "source": [
      "To solve the turbulent boundary-layer, we use the Von Karman momentum integral relation:\n",
      "\n",
      "$$ \\frac{d\\theta}{ds} + (2+H) \\frac{\\theta}{u_e} \\frac{du_e}{ds} = \\frac{1}{2} c_f $$\n",
      "\n",
      "where the skin fricition coefficient is approximated using Ludwieg-Tillmann relation:\n",
      "\n",
      "$$ c_f \\approx 0.246 Re_{\\theta}^{-0.268} 10^{-0.678H} $$\n",
      "\n",
      "The entrainment relation is used:\n",
      "\n",
      "$$ E = \\frac{1}{u_e} \\frac{d}{ds} \\left( u_e (\\delta-\\delta^*) \\right) $$\n",
      "\n",
      "$E$ needs to be correlated with other integral parameters. The original method of Head (1958) defines a new shape factor:\n",
      "\n",
      "$$ H_1 =\\frac{\\delta-\\delta^*}{\\theta} $$\n",
      "\n",
      "and writes the entrainment equation as a curve-fit correlation:\n",
      "\n",
      "$$ \\frac{d}{ds}\\left( u_e \\theta H_1 \\right) = u_e F(H_1) $$\n",
      "\n",
      "where\n",
      "\n",
      "$$ F(H_1) \\approx 0.0306 \\left( H_1 - 3.0 \\right)^{-0.6169} $$\n",
      "\n",
      "Head showed that $H_1$ is correlated to the standard shape factor $H$:\n",
      "\n",
      "$$ H_1 = 3.3 + 0.8234(H-1.1)^{-1.287} \\quad\\quad \\text{for} \\quad H \\leq 1.6 $$\n",
      "\n",
      "$$ H_1 = 3.3 + 1.5501(H-0.6678)^{-3.064} \\quad\\quad \\text{for} \\quad H \\geq 1.6 $$"
     ]
    },
    {
     "cell_type": "markdown",
     "metadata": {},
     "source": [
      "Using the momentum integral relation, the entrainment can be written as follow:\n",
      "\n",
      "$$ \\frac{dH_1}{ds} = (1+H)\\frac{H_1}{u_e}\\frac{du_e}{ds} + \\frac{1}{\\theta}F(H_1) - \\frac{H_1}{\\theta}\\frac{c_f}{2} $$\n",
      "\n",
      "The above equation and the momentum integral relation are numericall y solved in the turbulent region using a 4th-order Runge-Kutta method."
     ]
    },
    {
     "cell_type": "code",
     "collapsed": false,
     "input": [
      "class BoundaryLayer:\n",
      "    \"\"\"Boundary-layer correction.\"\"\"\n",
      "    def __init__(self, x_stagn, y_stagn, panels, i_start, i_end):\n",
      "        \"\"\"Initializes the boundary layer, \n",
      "        computes the running coordinate, the edge-velocity and its gradient.\n",
      "        \n",
      "        Arguments\n",
      "        ---------\n",
      "        x_stagn, y_stagn -- Cartesian coordinates of the stagnation point.\n",
      "        panels -- array of panels.\n",
      "        i_start, i_end -- indices of the first and last panels on the boundary.\n",
      "        \"\"\"\n",
      "        self.N = abs(i_end-i_start) + 2\n",
      "\n",
      "        # stores panels information related to a side\n",
      "        # the parameter 'a' is used to reverse the sign of the tangential velocity \n",
      "        # due to sign convention in panel method\n",
      "        if i_start > i_end:\n",
      "            self.panels = np.flipud(panels[i_end:i_start+1])\n",
      "            a = -1.\n",
      "        else:\n",
      "            self.panels = panels[i_start:i_end+1]\n",
      "            a = +1.\n",
      "        \n",
      "        # stores the Cartesian coordinates\n",
      "        self.x = np.append(x_stagn, [panel.xc for panel in self.panels])\n",
      "        self.y = np.append(y_stagn, [panel.yc for panel in self.panels])\n",
      "        self.beta = np.append(pi, [panel.beta for panel in self.panels])\n",
      "        \n",
      "        # computes running coordinate\n",
      "        self.s = np.empty(self.N, dtype=float)\n",
      "        self.s[0] = 0.0\n",
      "        self.s[1] = sqrt( (x_stagn-self.panels[0].xc)**2 + (y_stagn-self.panels[0].yc)**2 )        \n",
      "        for i in range(2,self.N):\n",
      "           self.s[i] = self.s[i-1] + self.panels[i-2].length/2 + self.panels[i-1].length/2\n",
      "            \n",
      "        # stores the tangetial surface velocity and computes the gradient\n",
      "        self.ve = np.append(0.0, [a*panel.vt for panel in self.panels])\n",
      "        self.velocity_gradient()\n",
      "    \n",
      "    def solve(self, nu=1.0E-05):\n",
      "        \"\"\"Solves the boundary layer.\n",
      "        \n",
      "        Arguments\n",
      "        ---------\n",
      "        nu -- kinematic viscosity of the fluid (default 1.0E-05).\n",
      "        \"\"\"\n",
      "        self.nu = nu\n",
      "        \n",
      "        # initializes the boundary layer variables\n",
      "        self.theta = np.zeros(self.N, dtype=float)\n",
      "        self.H = np.zeros(self.N, dtype=float)\n",
      "        self.cf = np.zeros(self.N, dtype=float)\n",
      "        \n",
      "        # solves laminar boundary\n",
      "        self.solve_laminar()\n",
      "        \n",
      "        # solves turbulent boundary\n",
      "        if not self.is_laminar:\n",
      "            self.solve_turbulent()\n",
      "\n",
      "            \n",
      "    def solve_laminar(self):\n",
      "        \"\"\"Solves the laminar boundary layer (Thwaites' method).\"\"\"\n",
      "        def shape_factor(lamBda):\n",
      "            \"\"\"Returns the shape factor (Cebeci and Bradshaw correlations).\n",
      "            \n",
      "            Arguments\n",
      "            ---------\n",
      "            lamBda -- Thwaites pressure-gradient parameter.\n",
      "            \"\"\"\n",
      "            if 0. <= lamBda < 0.1:\n",
      "                return 2.61 - 3.75*lamBda + 5.24*lamBda**2\n",
      "            elif -0.1 < lamBda < 0.:\n",
      "                return 2.088 + 0.0731/(lamBda+0.14)\n",
      "        \n",
      "        def skin_friction(lamBda, Re_theta):\n",
      "            \"\"\"Returns the skin friction (Cebeci and Bradshaw correlations).\n",
      "            \n",
      "            Arguments\n",
      "            ---------\n",
      "            lamBda -- Thwaites pressure-gradient parameter.\n",
      "            Re_theta -- Reynolds number based on momentum thickness.\n",
      "            \"\"\"\n",
      "            if 0.0 <= lamBda < 0.1:\n",
      "                l = 0.22 + 1.57*lamBda - 0.18*lamBda**2\n",
      "            elif -0.1 < lamBda < 0.0:\n",
      "                l = 0.22 + 1.402*lamBda + 0.018*lamBda/(lamBda+0.107)\n",
      "            return 2*l/Re_theta\n",
      "        \n",
      "        def f(s, y):\n",
      "            \"\"\"Returns right hand-side of first-order ODE.\n",
      "            \n",
      "            Arguments\n",
      "            ---------\n",
      "            s -- running coordinate along the boundary.\n",
      "            y -- variable to be integrated.\n",
      "            \"\"\"\n",
      "            ve = (s-self.s[i-1])/h*(self.ve[i]-self.ve[i-1]) + self.ve[i-1]\n",
      "            dveds = (s-self.s[i-1])/h*(self.dveds[i]-self.dveds[i-1]) + self.dveds[i-1]\n",
      "            \n",
      "            rhs = 0.45*self.nu/ve - 6*y/ve*dveds\n",
      "            return rhs\n",
      "            \n",
      "        # initial conditions\n",
      "        self.theta[0] = sqrt(0.075*self.nu/abs(self.dveds[0]))\n",
      "        self.ve[0] = 1.0E-06\n",
      "        y = np.array([self.theta[0]**2])\n",
      "        \n",
      "        # marching along the surface with RK4 integration\n",
      "        self.is_laminar = True\n",
      "        i = 1\n",
      "        while self.is_laminar and i < self.N:\n",
      "            s = self.s[i-1]\n",
      "            h = self.s[i] - self.s[i-1]\n",
      "            \n",
      "            k1 = h * f(s, y)\n",
      "            k2 = h * f(s + h/2, y + k1/2)\n",
      "            k3 = h * f(s + h/2, y + k2/2)\n",
      "            k4 = h * f(s + h, y + k3)\n",
      "            \n",
      "            y += 1./6 * (k1 + 2*k2 + 2*k3 + k4)\n",
      "            \n",
      "            #self.theta[i] = sqrt(y[0])\n",
      "            self.theta[i] = sqrt( 0.45*self.nu/self.ve[i]**6 \n",
      "                                 * np.trapz(self.ve[:i]**5,self.s[:i]) )\n",
      "            \n",
      "            # checks for transition laminar/turbulent\n",
      "            self.transition_prediction(i)\n",
      "\n",
      "            if self.is_laminar:\n",
      "                # calculates the pressure-gradient parameter\n",
      "                lamBda = self.theta[i]**2 / self.nu * self.dveds[i]\n",
      "                # computes the shape factor\n",
      "                self.H[i] = shape_factor(lamBda)\n",
      "                # calculates the Reynolds number based on momentum thickness\n",
      "                Re_theta = self.ve[i] * self.theta[i]/self.nu\n",
      "                # computes the friction coefficient\n",
      "                self.cf[i] = skin_friction(lamBda, Re_theta)\n",
      "            \n",
      "            i += 1\n",
      "\n",
      "    def solve_turbulent(self):\n",
      "        \"\"\"Solves the turbulent boundary layer (Head's method).\"\"\"\n",
      "        def skin_friction(theta, H, ve):\n",
      "            \"\"\"Returns the skin friction (Ludwieg-Tillmann relation).\n",
      "            \n",
      "            Arguments\n",
      "            ---------\n",
      "            theta -- momentum thickness.\n",
      "            H -- shape factor.\n",
      "            ve -- edge velocity.\n",
      "            \"\"\"\n",
      "            return 0.246 * (ve*theta/self.nu)**(-0.268) * 10.**(-0.678*H)\n",
      "        \n",
      "        def new_shape_factor(H):\n",
      "            \"\"\"Returns Head's shape factor (Head's curve-fit formula).\n",
      "            \n",
      "            Arguments\n",
      "            ---------\n",
      "            H -- shape factor.\n",
      "            \"\"\"\n",
      "            if H < 1.1:\n",
      "                return 16.0\n",
      "            elif H <= 1.6:\n",
      "                return 3.3 + 0.8234*(H-1.1)**(-1.287)\n",
      "            else:\n",
      "                return 3.3 + 1.5501*(H-0.6778)**(-3.064)\n",
      "            \n",
      "        def shape_factor(H1):\n",
      "            \"\"\"Returns the shape factor (Head's curve-fit formula).\n",
      "            \n",
      "            Arguments\n",
      "            ---------\n",
      "            H1 -- Head's shape factor.\n",
      "            \"\"\"\n",
      "            if H1 <= 3.32:\n",
      "                return 3.0\n",
      "            elif H1 < 5.3:\n",
      "                return 0.6778 + ((H1-3.3)/1.5501)**(-(1./3.064))\n",
      "            else:\n",
      "                return 1.1 + ((H1-3.3)/0.8234)**(-(1./1.287))\n",
      "\n",
      "        def F(H1):\n",
      "            \"\"\"Returns RHS of entrainment equation (Head's curve-fit formula).\n",
      "            \n",
      "            Arguments\n",
      "            ---------\n",
      "            H1 -- Head's shape factor.\n",
      "            \"\"\"\n",
      "            return 0.0306 * (H1-3.0)**(-0.6169)\n",
      "\n",
      "        def f(s, y):\n",
      "            \"\"\"Returns right hand-side of first-order ODE.\n",
      "            \n",
      "            Arguments\n",
      "            ---------\n",
      "            s -- running coordinate along the boundary.\n",
      "            y -- variable to be integrated.\n",
      "            \"\"\"\n",
      "            theta, H1 = y[0], y[1]\n",
      "            \n",
      "            ve = (s-self.s[i-1])/h*(self.ve[i]-self.ve[i-1]) + self.ve[i-1]\n",
      "            dveds = (s-self.s[i-1])/h*(self.dveds[i]-self.dveds[i-1]) + self.dveds[i-1]\n",
      "            \n",
      "            H = shape_factor(H1)\n",
      "            cf = skin_friction(theta, H, ve)\n",
      "            \n",
      "            rhs1 = 0.5*cf - (2.0 + H)*theta/ve*dveds\n",
      "            rhs2 = - H1/theta*rhs1 - H1/ve*dveds + F(H1)/theta\n",
      "            return np.array([rhs1, rhs2])\n",
      "        \n",
      "        # initial conditions\n",
      "        H1 = new_shape_factor(self.H[self.i_trans-1])\n",
      "        y = np.array([self.theta[self.i_trans-1], H1])\n",
      "        \n",
      "        # marching along the surface from the first turbulent station using RK4\n",
      "        for i in range(self.i_trans, self.N):\n",
      "            s = self.s[i-1]\n",
      "            h = self.s[i] - self.s[i-1]\n",
      "            \n",
      "            k1 = h * f(s, y)\n",
      "            k2 = h * f(s + h/2, y + k1/2)\n",
      "            k3 = h* f(s + h/2, y + k2/2)\n",
      "            k4 = h * f(s + h, y + k3)\n",
      "            \n",
      "            y += 1./6 * (k1 + 2*k2 + 2*k3 + k4)\n",
      "            \n",
      "            self.theta[i], H1 = y[0], y[1]\n",
      "            self.H[i] = shape_factor(H1)\n",
      "            self.cf[i] = skin_friction(self.theta[i], self.H[i], self.ve[i])\n",
      "        \n",
      "    def velocity_gradient(self):\n",
      "        \"\"\"Computes the velocity gradient w.r.t. the running coordinate.\"\"\"\n",
      "        N = len(self.s)\n",
      "        self.dveds = np.gradient(self.ve, \n",
      "                                 np.append(self.s[1] - self.s[0], \n",
      "                                           self.s[1:N] - self.s[0:N-1]))\n",
      "     \n",
      "    def transition_prediction(self, i):\n",
      "        \"\"\"Checks laminar/turbulent transition (Michel's criterion).\n",
      "        \n",
      "        Arguments\n",
      "        ---------\n",
      "        i -- index of the boundary point.\n",
      "        \"\"\"\n",
      "        Re_theta = self.ve[i]*self.theta[i]/self.nu\n",
      "        Re_s = self.ve[i]*self.s[i]/self.nu\n",
      "        \n",
      "        michel_criterion = 1.174*(Re_s**(0.46)+22400*Re_s**(-0.54))\n",
      "        \n",
      "        if Re_theta > michel_criterion:\n",
      "            self.is_laminar = False\n",
      "            self.i_trans = i  # index of the first turbulent boundary point\n",
      "              \n",
      "    def displacement_thickness(self, factor=1.0):\n",
      "        \"\"\"Computes the displacement thickness and its Cartesian coordinates.\n",
      "        \n",
      "        Arguments\n",
      "        ---------\n",
      "        factor -- amplification of the boundary thickness (default 1.0).\n",
      "        \"\"\"\n",
      "        self.delta_star = self.H * self.theta\n",
      "        \n",
      "        self.x_delta = self.x + factor*self.delta_star*np.cos(self.beta)\n",
      "        self.y_delta = self.y + factor*self.delta_star*np.sin(self.beta)"
     ],
     "language": "python",
     "metadata": {},
     "outputs": [],
     "prompt_number": 25
    },
    {
     "cell_type": "markdown",
     "metadata": {},
     "source": [
      "Now that the stagnation has been found, the airfoil surface can be divided into two boundaries: `upper` and `lower` and we create two objects of the class `BoundaryLayer`:"
     ]
    },
    {
     "cell_type": "code",
     "collapsed": false,
     "input": [
      "# creates the different boundaries to solve\n",
      "boundaries = {}\n",
      "boundaries['upper'] = BoundaryLayer(x_stagn, y_stagn, panels, I-1, 0)\n",
      "boundaries['lower'] = BoundaryLayer(x_stagn, y_stagn, panels, I, N-1)"
     ],
     "language": "python",
     "metadata": {},
     "outputs": [],
     "prompt_number": 26
    },
    {
     "cell_type": "markdown",
     "metadata": {},
     "source": [
      "For each surface, the boundary layer is calculated using the algorithm described previously. The Reynolds number has been set to $Re = 10^6$."
     ]
    },
    {
     "cell_type": "markdown",
     "metadata": {},
     "source": [
      "The displacement thickness $\\delta^*$ is then calculated using the definition of the shape factor:\n",
      "\n",
      "$$ H \\equiv \\frac{\\delta^*}{\\theta} $$\n",
      "\n",
      "Note that we use a factor $20$ to make the boundary layer visible on the figure below."
     ]
    },
    {
     "cell_type": "code",
     "collapsed": false,
     "input": [
      "# solves the boundary layer and computes the displacement thickness on each side\n",
      "Re = 1.0E+06\n",
      "for boundary in boundaries.itervalues():\n",
      "    boundary.solve(nu=1./Re)\n",
      "    boundary.displacement_thickness(factor=20)"
     ],
     "language": "python",
     "metadata": {},
     "outputs": [
      {
       "output_type": "stream",
       "stream": "stderr",
       "text": [
        "-c:89: RuntimeWarning: divide by zero encountered in double_scalars\n"
       ]
      }
     ],
     "prompt_number": 27
    },
    {
     "cell_type": "markdown",
     "metadata": {},
     "source": [
      "Finally, the displacement thickness is displayed on the airfoil geometry. The solid blue line represents the boundary layer thickness, and the red dot is the laminar/turbulent transition point."
     ]
    },
    {
     "cell_type": "code",
     "collapsed": false,
     "input": [
      "# plots the displacement thickness of the different boundaries\n",
      "val_x, val_y = 0.1, 1.0\n",
      "x_min, x_max = x.min(), x.max()\n",
      "y_min, y_max = y.min(), y.max()\n",
      "x_start, x_end = x_min-val_x*(x_max-x_min), x_max+val_x*(x_max-x_min)\n",
      "y_start, y_end = y_min-val_y*(y_max-y_min), y_max+val_y*(y_max-y_min)\n",
      "\n",
      "size = 10\n",
      "plt.figure(figsize=(size, (y_end-y_start)/(x_end-x_start)*size))\n",
      "plt.grid(True)\n",
      "plt.xlabel('x', fontsize=16)\n",
      "plt.ylabel('y', fontsize=16)\n",
      "plt.xlim(x_start, x_end)\n",
      "plt.ylim(y_start, y_end)\n",
      "plt.plot(x, y, color='k', linestyle='-', linewidth=1)\n",
      "for boundary in boundaries.itervalues():\n",
      "    plt.plot(boundary.x_delta, boundary.y_delta, color='b', linestyle='-', linewidth=1);\n",
      "    if not boundary.is_laminar:\n",
      "        plt.scatter(boundary.x_delta[boundary.i_trans], \n",
      "                    boundary.y_delta[boundary.i_trans], \n",
      "                    s=40, color='r', marker='o', zorder=10);"
     ],
     "language": "python",
     "metadata": {},
     "outputs": [
      {
       "metadata": {},
       "output_type": "display_data",
       "png": "[encoded data removed]",
       "text": [
        "<matplotlib.figure.Figure at 0x1066e1290>"
       ]
      }
     ],
     "prompt_number": 28
    },
    {
     "cell_type": "markdown",
     "metadata": {},
     "source": [
      "---"
     ]
    },
    {
     "cell_type": "heading",
     "level": 2,
     "metadata": {},
     "source": [
      "Example of the flat plate"
     ]
    },
    {
     "cell_type": "markdown",
     "metadata": {},
     "source": [
      "To test the numerical method implemented above, we use the example of the flat plate to compare our data with experimental ones.\n",
      "\n",
      "A 5-meter flat plate is immersed in a uniform flow (with speed $33$ m/s and viscosity of $1.51 \\times 10^{-5}$ m2/s)."
     ]
    },
    {
     "cell_type": "code",
     "collapsed": false,
     "input": [
      "class Plate:\n",
      "    \"\"\"Contains plate information.\"\"\"\n",
      "    def __init__(self, x_min, x_max, ve=1.0, nu=1.51E-05, N=100):\n",
      "        \"\"\"Discretizes the plate into panels and stores edge-velocity.\n",
      "        \n",
      "        Arguments\n",
      "        ---------\n",
      "        x_min, x_max -- boundaries of the plate.\n",
      "        ve -- edge-velocity (default 1.0).\n",
      "        nu -- kinematic viscosity (default 1.51E-05).\n",
      "        N - number of panels (default 100).\n",
      "        \"\"\"\n",
      "        self.x_min = x_min\n",
      "        self.x_max = x_max\n",
      "        self.N = N\n",
      "        \n",
      "        self.x = np.linspace(self.x_min, self.x_max, self.N+1)\n",
      "        \n",
      "        self.panels = np.empty(self.N, dtype=object)\n",
      "        for i, panel in enumerate(self.panels):\n",
      "            self.panels[i] = Panel(self.x[i], 0.0, self.x[i+1], 0.0)\n",
      "            self.panels[i].vt = ve\n",
      "        \n",
      "        self.nu = nu\n",
      "        \n",
      "        self.boundary = None"
     ],
     "language": "python",
     "metadata": {},
     "outputs": [],
     "prompt_number": 29
    },
    {
     "cell_type": "markdown",
     "metadata": {},
     "source": [
      "The flat plate is discretized into `N=200` panels:"
     ]
    },
    {
     "cell_type": "code",
     "collapsed": false,
     "input": [
      "# creates the flat plate\n",
      "plate = Plate(0.0, 5.0, nu=1.51E-05, ve=33.0, N=200)"
     ],
     "language": "python",
     "metadata": {},
     "outputs": [],
     "prompt_number": 30
    },
    {
     "cell_type": "markdown",
     "metadata": {},
     "source": [
      "And we create an object `plate` of the class `BoundaryLayer` to solve the boundary layer equations."
     ]
    },
    {
     "cell_type": "code",
     "collapsed": false,
     "input": [
      "# defines the boundary layer\n",
      "plate.boundary = BoundaryLayer(plate.x[0], 0.0, plate.panels, 0, plate.N-1)\n",
      "\n",
      "# solves the boundary layer\n",
      "plate.boundary.solve(nu=plate.nu)"
     ],
     "language": "python",
     "metadata": {},
     "outputs": [],
     "prompt_number": 31
    },
    {
     "cell_type": "markdown",
     "metadata": {},
     "source": [
      "The Blasius solution is also computed for comparison:"
     ]
    },
    {
     "cell_type": "code",
     "collapsed": false,
     "input": [
      "# Blasius solution\n",
      "bound = plate.boundary\n",
      "\n",
      "momentum_thickness = np.empty(bound.N, dtype=float)\n",
      "\n",
      "momentum_thickness[0] = 0.0\n",
      "\n",
      "if boundary.is_laminar:\n",
      "    momentum_thickness[1:bound.N] = 0.664*bound.s[1:bound.N] \\\n",
      "                                    / np.sqrt(bound.ve[1:bound.N]*bound.s[1:bound.N]\n",
      "                                              / bound.nu)\n",
      "else:\n",
      "    i_trans = bound.i_trans\n",
      "    momentum_thickness[1:i_trans] = 0.664 * bound.s[1:i_trans] \\\n",
      "                              / np.sqrt(bound.ve[1:i_trans]*bound.s[1:i_trans]/bound.nu)\n",
      "    momentum_thickness[i_trans:bound.N] = 0.0155*bound.s[i_trans:bound.N] \\\n",
      "                                          / (bound.ve[i_trans:bound.N]\n",
      "                                             *bound.s[i_trans:bound.N]\n",
      "                                             /bound.nu)**(1./7)"
     ],
     "language": "python",
     "metadata": {},
     "outputs": [],
     "prompt_number": 32
    },
    {
     "cell_type": "markdown",
     "metadata": {},
     "source": [
      "Numerical results are compared with experimental data from Wieghardt and Tillmann (1951):"
     ]
    },
    {
     "cell_type": "code",
     "collapsed": false,
     "input": [
      "# reads experimental data from Wieghardt and Tillmann (1951)\n",
      "with open ('../resources/WIECF.dat') as file_name:\n",
      "    data = np.loadtxt(file_name, dtype=float, usecols=(0, 3), skiprows=5)\n",
      "    x_exp = 0.3048*data[:,0]           # conversion feet to meters\n",
      "    theta_exp = 0.3048*data[:,1]       # conversion feet to meters\n",
      "\n",
      "# plots the momentum thickness along the flat plate\n",
      "plt.figure(figsize=(10, 6))\n",
      "plt.grid(True)\n",
      "plt.xlabel('x', fontsize=18)\n",
      "plt.ylabel(r'$Re_\\theta$', fontsize=18)\n",
      "# plots numerical solution\n",
      "plt.plot(bound.x, bound.theta*bound.ve/bound.nu, \n",
      "         color='b', linestyle='-', linewidth=1)\n",
      "# plots Blasius solution\n",
      "plt.plot(bound.s, momentum_thickness*bound.ve/bound.nu, \n",
      "         color='r', linestyle='-', linewidth=1)\n",
      "# plots experimental data\n",
      "plt.scatter(x_exp, theta_exp*bound.ve[1]/bound.nu, color='g', s=40, marker='o', linewidth=0)\n",
      "plt.legend(['Present work', 'Blasius', 'Wieghardt & Tillmann (1951)'], \n",
      "           loc='best', prop={'size':16})\n",
      "if not plate.boundary.is_laminar:\n",
      "    plt.axvline(bound.s[plate.boundary.i_trans], ymin=0., ymax=1., \n",
      "                color='k', linestyle='-', linewidth=2)"
     ],
     "language": "python",
     "metadata": {},
     "outputs": [
      {
       "metadata": {},
       "output_type": "display_data",
       "png": "[encoded data removed]",
       "text": [
        "<matplotlib.figure.Figure at 0x10671fcd0>"
       ]
      }
     ],
     "prompt_number": 33
    },
    {
     "cell_type": "markdown",
     "metadata": {},
     "source": [
      "---"
     ]
    },
    {
     "cell_type": "markdown",
     "metadata": {},
     "source": [
      "The cell below can be ignored. It is used to create the style of the notebook."
     ]
    },
    {
     "cell_type": "code",
     "collapsed": false,
     "input": [
      "from IPython.core.display import HTML\n",
      "def css_styling():\n",
      "    styles = open('../styles/custom.css', 'r').read()\n",
      "    return HTML(styles)\n",
      "css_styling()"
     ],
     "language": "python",
     "metadata": {},
     "outputs": [
      {
       "html": [
        "<link href='http://fonts.googleapis.com/css?family=Fenix' rel='stylesheet' type='text/css'>\n",
        "<link href='http://fonts.googleapis.com/css?family=Alegreya+Sans:100,300,400,500,700,800,900,100italic,300italic,400italic,500italic,700italic,800italic,900italic' rel='stylesheet' type='text/css'>\n",
        "<link href='http://fonts.googleapis.com/css?family=Source+Code+Pro:300,400' rel='stylesheet' type='text/css'>\n",
        "<style>\n",
        "    @font-face {\n",
        "        font-family: \"Computer Modern\";\n",
        "        src: url('http://mirrors.ctan.org/fonts/cm-unicode/fonts/otf/cmunss.otf');\n",
        "    }\n",
        "    div.cell{\n",
        "        width:800px;\n",
        "        margin-left:16% !important;\n",
        "        margin-right:auto;\n",
        "    }\n",
        "    h1 {\n",
        "        font-family: 'Alegreya Sans', sans-serif;\n",
        "    }\n",
        "    h2 {\n",
        "        font-family: 'Fenix', serif;\n",
        "    }\n",
        "    h3{\n",
        "\t\tfont-family: 'Fenix', serif;\n",
        "        margin-top:12px;\n",
        "        margin-bottom: 3px;\n",
        "       }\n",
        "\th4{\n",
        "\t\tfont-family: 'Fenix', serif;\n",
        "       }\n",
        "    h5 {\n",
        "        font-family: 'Alegreya Sans', sans-serif;\n",
        "    }\t   \n",
        "    div.text_cell_render{\n",
        "        font-family: 'Alegreya Sans',Computer Modern, \"Helvetica Neue\", Arial, Helvetica, Geneva, sans-serif;\n",
        "        line-height: 135%;\n",
        "        font-size: 120%;\n",
        "        width:600px;\n",
        "        margin-left:auto;\n",
        "        margin-right:auto;\n",
        "    }\n",
        "    .CodeMirror{\n",
        "            font-family: \"Source Code Pro\";\n",
        "\t\t\tfont-size: 90%;\n",
        "    }\n",
        "/*    .prompt{\n",
        "        display: None;\n",
        "    }*/\n",
        "    .text_cell_render h1 {\n",
        "        font-weight: 200;\n",
        "        font-size: 50pt;\n",
        "\t\tline-height: 100%;\n",
        "        color:#CD2305;\n",
        "        margin-bottom: 0.5em;\n",
        "        margin-top: 0.5em;\n",
        "        display: block;\n",
        "    }\t\n",
        "    .text_cell_render h5 {\n",
        "        font-weight: 300;\n",
        "        font-size: 16pt;\n",
        "        color: #CD2305;\n",
        "        font-style: italic;\n",
        "        margin-bottom: .5em;\n",
        "        margin-top: 0.5em;\n",
        "        display: block;\n",
        "    }\n",
        "    \n",
        "    .warning{\n",
        "        color: rgb( 240, 20, 20 )\n",
        "        }  \n",
        "</style>\n",
        "<script>\n",
        "    MathJax.Hub.Config({\n",
        "                        TeX: {\n",
        "                           extensions: [\"AMSmath.js\"]\n",
        "                           },\n",
        "                tex2jax: {\n",
        "                    inlineMath: [ ['$','$'], [\"\\\\(\",\"\\\\)\"] ],\n",
        "                    displayMath: [ ['$$','$$'], [\"\\\\[\",\"\\\\]\"] ]\n",
        "                },\n",
        "                displayAlign: 'center', // Change this to 'center' to center equations.\n",
        "                \"HTML-CSS\": {\n",
        "                    styles: {'.MathJax_Display': {\"margin\": 4}}\n",
        "                }\n",
        "        });\n",
        "</script>\n"
       ],
       "metadata": {},
       "output_type": "pyout",
       "prompt_number": 34,
       "text": [
        "<IPython.core.display.HTML at 0x1066c7e50>"
       ]
      }
     ],
     "prompt_number": 34
    },
    {
     "cell_type": "code",
     "collapsed": false,
     "input": [],
     "language": "python",
     "metadata": {},
     "outputs": [],
     "prompt_number": 34
    }
   ],
   "metadata": {}
  }
 ]
}