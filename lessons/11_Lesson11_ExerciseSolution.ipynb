{
 "metadata": {
  "name": "",
  "signature": "sha256:8337ae5f6fda9ed3f8f8dc2aea7eb1dd09494039f404db8622bbfc75c55caa2d"
 },
 "nbformat": 3,
 "nbformat_minor": 0,
 "worksheets": [
  {
   "cells": [
    {
     "cell_type": "heading",
     "level": 6,
     "metadata": {},
     "source": [
      "Content under Creative Commons Attribution license CC-BY 4.0, code under MIT license (c)2015 L.A. Barba, Pi-Yueh Chuang."
     ]
    },
    {
     "cell_type": "heading",
     "level": 1,
     "metadata": {},
     "source": [
      "Exercise Solution: Derivation of the vortex-source panel method"
     ]
    },
    {
     "cell_type": "markdown",
     "metadata": {},
     "source": [
      "------------------------------------------------------"
     ]
    },
    {
     "cell_type": "heading",
     "level": 3,
     "metadata": {},
     "source": [
      "ANS 1:"
     ]
    },
    {
     "cell_type": "markdown",
     "metadata": {},
     "source": [
      "$$\n",
      "\\begin{split}\n",
      "\\phi(x, y) &= xU_{\\infty}\\cos(\\alpha) + yU_{\\infty}\\sin(\\alpha) \\\\\n",
      "&+\n",
      "\\frac{1}{2\\pi} \n",
      "\\sum_{j=1}^{N}\n",
      "\\int_{l_j} \\sigma_j(s)\\ln\\left[(x-\\xi_j(s))^2+(y-\\eta_j(s))^2\\right]^{\\frac{1}{2}}ds \\\\\n",
      "&-\n",
      "\\frac{1}{2\\pi} \n",
      "\\sum_{j=1}^{N}\n",
      "\\int_{l_j} \\gamma_j(s)\\tan^{-1} \\frac{y-\\eta_j(s)}{x-\\xi_j(s)}ds\n",
      "\\end{split}\n",
      "$$"
     ]
    },
    {
     "cell_type": "markdown",
     "metadata": {},
     "source": [
      "----------------------------"
     ]
    },
    {
     "cell_type": "heading",
     "level": 3,
     "metadata": {},
     "source": [
      "ANS 2:"
     ]
    },
    {
     "cell_type": "markdown",
     "metadata": {},
     "source": [
      "$$\n",
      "\\begin{split}\n",
      "\\phi(x, y) &= xU_{\\infty}\\cos(\\alpha) + yU_{\\infty}\\sin(\\alpha) \\\\\n",
      "&+\n",
      "\\frac{1}{2\\pi} \n",
      "\\sum_{j=1}^{N}\n",
      "\\int_{l_j} \\sigma_j\\ln\\left[(x-\\xi_j(s))^2+(y-\\eta_j(s))^2\\right]^{\\frac{1}{2}}ds \\\\\n",
      "&-\n",
      "\\frac{\\gamma_j}{2\\pi} \n",
      "\\sum_{j=1}^{N}\n",
      "\\int_{l_j} \\tan^{-1} \\frac{y-\\eta_j(s)}{x-\\xi_j(s)}ds\n",
      "\\end{split}\n",
      "$$"
     ]
    },
    {
     "cell_type": "markdown",
     "metadata": {},
     "source": [
      "---------------------------"
     ]
    },
    {
     "cell_type": "heading",
     "level": 3,
     "metadata": {},
     "source": [
      "ANS 3:"
     ]
    },
    {
     "cell_type": "markdown",
     "metadata": {},
     "source": [
      "$$\n",
      "\\begin{split}\n",
      "U_n(x,y)\n",
      "&=\n",
      "U_{\\infty}\\cos(\\alpha)t_x + U_{\\infty}\\sin{\\alpha}t_y \\\\\n",
      "&+\n",
      "\\frac{1}{2\\pi}\n",
      "\\sum_{j=1}^{N}\n",
      "\\int_{l_j} \\sigma_j \\frac{(x-\\xi_j(s))n_x+(y-\\eta(s))n_y}{(x-\\xi_j(s))^2+(y-\\eta(s))^2} ds \\\\\n",
      "&-\n",
      "\\frac{\\gamma}{2\\pi}\n",
      "\\sum_{j=1}^{N}\n",
      "\\int_{l_j} \\frac{(x-\\xi_j(s))n_y+(y-\\eta(s))(-n_x)}{(x-\\xi_j(s))^2+(y-\\eta(s))^2} ds\n",
      "\\end{split}\n",
      "$$\n",
      "\n",
      "$$\n",
      "\\begin{split}\n",
      "U_t(x,y)\n",
      "&=\n",
      "U_{\\infty}\\cos(\\alpha)t_x + U_{\\infty}\\sin{\\alpha}t_y \\\\\n",
      "&+\n",
      "\\frac{1}{2\\pi}\n",
      "\\sum_{j=1}^{N}\n",
      "\\int_{l_j} \\sigma_j \\frac{(x-\\xi_j(s))t_x+(y-\\eta(s))t_y}{(x-\\xi_j(s))^2+(y-\\eta(s))^2} ds \\\\\n",
      "&-\n",
      "\\frac{\\gamma}{2\\pi}\n",
      "\\sum_{j=1}^{N}\n",
      "\\int_{l_j} \\frac{(x-\\xi_j(s))t_y+(y-\\eta(s))(-t_x)}{(x-\\xi_j(s))^2+(y-\\eta(s))^2} ds\n",
      "\\end{split}\n",
      "$$"
     ]
    },
    {
     "cell_type": "markdown",
     "metadata": {},
     "source": [
      "-----------------------------------------"
     ]
    },
    {
     "cell_type": "heading",
     "level": 3,
     "metadata": {},
     "source": [
      "ANS 4:"
     ]
    },
    {
     "cell_type": "markdown",
     "metadata": {},
     "source": [
      "$$\n",
      "\\left\\{\n",
      "\\begin{array}{l}\n",
      "b^n_i = U_{\\infty}\\cos(\\alpha)n_{x,i} + U_{\\infty}\\sin{\\alpha}n_{y,i}\n",
      "\\\\\n",
      "A^n_{ij}=\n",
      "\\frac{1}{2\\pi}\n",
      "\\int_{l_j} \\frac{(x_{c,i}-\\xi_j(s))n_{x,i}+(y_{c,i}-\\eta(s))n_{y,i}}{(x-\\xi_j(s))^2+(y-\\eta(s))^2} ds\n",
      "\\\\\n",
      "B^n_{ij}=\n",
      "-\\frac{1}{2\\pi}\n",
      "\\int_{l_j} \\frac{(x_{c,i}-\\xi_j(s))n_{y,i}+(y_{c,i}-\\eta(s))(-n_{x,i})}{(x-\\xi_j(s))^2+(y-\\eta(s))^2} ds\n",
      "\\end{array}\n",
      "\\right.\n",
      "$$\n",
      "\n",
      "$$\n",
      "\\left\\{\n",
      "\\begin{array}{l}\n",
      "b^t_i = U_{\\infty}\\cos(\\alpha)t_{x,i} + U_{\\infty}\\sin{\\alpha}t_{y,i}\n",
      "\\\\\n",
      "A^t_{ij}=\n",
      "\\frac{1}{2\\pi}\n",
      "\\int_{l_j} \\frac{(x_{c,i}-\\xi_j(s))t_{x,i}+(y_{c,i}-\\eta(s))t_{y,i}}{(x-\\xi_j(s))^2+(y-\\eta(s))^2} ds\n",
      "\\\\\n",
      "B^n_{ij}=\n",
      "-\\frac{1}{2\\pi}\n",
      "\\int_{l_j} \\frac{(x_{c,i}-\\xi_j(s))t_{y,i}+(y_{c,i}-\\eta(s))(-t_{x,i})}{(x-\\xi_j(s))^2+(y-\\eta(s))^2} ds\n",
      "\\end{array}\n",
      "\\right.\n",
      "$$"
     ]
    },
    {
     "cell_type": "markdown",
     "metadata": {},
     "source": [
      "-----------------------"
     ]
    },
    {
     "cell_type": "heading",
     "level": 3,
     "metadata": {},
     "source": [
      "ANS 5:"
     ]
    },
    {
     "cell_type": "markdown",
     "metadata": {},
     "source": [
      "$$\n",
      "B^n_{ij}=-A^t_{ij}, \\ \\ and\\ B^t_{ij}=A^n_{ij}\n",
      "$$"
     ]
    },
    {
     "cell_type": "markdown",
     "metadata": {},
     "source": [
      "-------------------------"
     ]
    },
    {
     "cell_type": "heading",
     "level": 3,
     "metadata": {},
     "source": [
      "ANS 6:"
     ]
    },
    {
     "cell_type": "markdown",
     "metadata": {},
     "source": [
      "$$\n",
      "A^n_{ii} = 0.5,\\ \\ and\\ A^t_{ii}=0\n",
      "$$"
     ]
    },
    {
     "cell_type": "markdown",
     "metadata": {},
     "source": [
      "------------------------------"
     ]
    },
    {
     "cell_type": "heading",
     "level": 3,
     "metadata": {},
     "source": [
      "ANS 7:"
     ]
    },
    {
     "cell_type": "markdown",
     "metadata": {},
     "source": [
      "$$\n",
      "\\left[\n",
      "\\begin{smallmatrix}\n",
      "\\left( A^t_{11}+A^t_{N1} \\right) &&\n",
      "\\left( A^t_{12}+A^t_{N2} \\right) &&\n",
      "... &&\n",
      "\\left( A^t_{1N}+A^t_{NN} \\right) &&\n",
      "\\sum_{j=1}^N \\left( B^t_{1j}+B^t_{Nj}  \\right)\n",
      "\\end{smallmatrix}\n",
      "\\right]\n",
      "\\left[\n",
      "\\begin{smallmatrix}\n",
      "\\sigma_1 \\\\\n",
      "\\sigma_2 \\\\\n",
      "\\vdots \\\\\n",
      "\\sigma_N \\\\\n",
      "\\gamma\n",
      "\\end{smallmatrix}\n",
      "\\right]\n",
      "=\n",
      "- \\left( b^t_N + b^t_1 \\right)\n",
      "$$"
     ]
    },
    {
     "cell_type": "markdown",
     "metadata": {},
     "source": [
      "---------------------"
     ]
    },
    {
     "cell_type": "heading",
     "level": 3,
     "metadata": {},
     "source": [
      "ANS 8:"
     ]
    },
    {
     "cell_type": "markdown",
     "metadata": {},
     "source": [
      "$$\n",
      "\\left[\n",
      "\\begin{smallmatrix}\n",
      "A^n_{11} && A^n_{12} && \\cdots && A^n_{1N} && \\sum_{j=1}^N B^n_{1j} \\\\\n",
      "\\vdots && && && && \\vdots \\\\\n",
      "A^n_{N1} && A^n_{N2} && \\cdots && A^n_{NN} && \\sum_{j=1}^N B^n_{Nj} \\\\\n",
      "\\left( A^t_{11}+A^t_{N1} \\right) &&\n",
      "\\left( A^t_{12}+A^t_{N2} \\right) &&\n",
      "... &&\n",
      "\\left( A^t_{1N}+A^t_{NN} \\right) &&\n",
      "\\sum_{j=1}^N \\left( B^t_{1j}+B^t_{Nj}  \\right)\n",
      "\\end{smallmatrix}\n",
      "\\right]\n",
      "\\left[\n",
      "\\begin{smallmatrix}\n",
      "\\sigma_1 \\\\\n",
      "\\sigma_2 \\\\\n",
      "\\vdots \\\\\n",
      "\\sigma_N \\\\\n",
      "\\gamma\n",
      "\\end{smallmatrix}\n",
      "\\right]\n",
      "=\n",
      "\\left[\n",
      "\\begin{smallmatrix}\n",
      "-b^n_1 \\\\\n",
      "-b^n_2 \\\\\n",
      "\\vdots \\\\\n",
      "-b^n_N \\\\\n",
      "- \\left( b^t_N + b^t_1 \\right)\n",
      "\\end{smallmatrix}\n",
      "\\right]\n",
      "$$"
     ]
    },
    {
     "cell_type": "markdown",
     "metadata": {},
     "source": [
      "where"
     ]
    },
    {
     "cell_type": "markdown",
     "metadata": {},
     "source": [
      "\\begin{equation}\n",
      "A^n_{ij} =\n",
      "\\left\\{\n",
      "\\begin{array}{l}\n",
      "\\frac{1}{2},\\ \\ i=j \\\\\n",
      "\\frac{1}{2\\pi} \\int_{l_j} \\frac{(x_{c,i}-\\xi_j(s))n_{x,i}+(y_{c,i}-\\eta(s))n_{y,i}}{(x-\\xi_j(s))^2+(y-\\eta(s))^2} ds, \\ \\ i\\ne j\n",
      "\\end{array}\n",
      "\\right.\n",
      "\\end{equation}"
     ]
    },
    {
     "cell_type": "markdown",
     "metadata": {},
     "source": [
      "\\begin{equation}\n",
      "A^t_{ij} =\n",
      "\\left\\{\n",
      "\\begin{array}{l}\n",
      "0,\\ \\ i=j \\\\\n",
      "\\frac{1}{2\\pi} \\int_{l_j} \\frac{(x_{c,i}-\\xi_j(s))t_{x,i}+(y_{c,i}-\\eta(s))t_{y,i}}{(x-\\xi_j(s))^2+(y-\\eta(s))^2} ds, \\ \\ i\\ne j\n",
      "\\end{array}\n",
      "\\right.\n",
      "\\end{equation}"
     ]
    },
    {
     "cell_type": "markdown",
     "metadata": {},
     "source": [
      "\\begin{equation}\n",
      "B^n_{ij} = - A^t_{ij}, \\ \\ and\\ \\ B^t_{ij}=A^n_{ij}\n",
      "\\end{equation}"
     ]
    },
    {
     "cell_type": "markdown",
     "metadata": {},
     "source": [
      "\\begin{equation}\n",
      "x_{c,i} = \\frac{x_{i+1}-x_{i}}{2},\\ and\\ y_{c,i} = \\frac{y_{i+1}-y_{i}}{2}\n",
      "\\end{equation}"
     ]
    },
    {
     "cell_type": "markdown",
     "metadata": {},
     "source": [
      "\\begin{equation}\n",
      "b^n_i = U_{\\infty}(\\cos(\\alpha)n_{x,i}+\\sin(\\alpha)n_{y,i})\n",
      "\\end{equation}"
     ]
    },
    {
     "cell_type": "markdown",
     "metadata": {},
     "source": [
      "\\begin{equation}\n",
      "b^t_i = U_{\\infty}(\\cos(\\alpha)t_{x,i}+\\sin(\\alpha)t_{y,i})\n",
      "\\end{equation}"
     ]
    },
    {
     "cell_type": "markdown",
     "metadata": {},
     "source": [
      "\\begin{equation}\n",
      "\\left\\{\n",
      "\\begin{array}{l}\n",
      "t_{x,i}=-\\sin(\\beta_i) = \\frac{x_{i+1} - x_{i}}{l_i} \\\\\n",
      "t_{y,i}=\\cos(\\beta_i) = \\frac{y_{i+1} - y_{i}}{l_i}\n",
      "\\end{array}\n",
      "\\right.\n",
      ",\\ and\\ \n",
      "\\left\\{\n",
      "\\begin{array}{l}\n",
      "n_{x,i}=\\cos(\\beta_i) = t_{y,i} \\\\\n",
      "n_{y,i}=\\sin(\\beta_i) = - t_{x.i}\n",
      "\\end{array}\n",
      "\\right.\n",
      "\\end{equation}"
     ]
    },
    {
     "cell_type": "markdown",
     "metadata": {},
     "source": [
      "\\begin{equation}\n",
      "l_i = \\sqrt{(x_{i+1}-x_i)^2+(y_{i+1}-y_i)^2}\n",
      "\\end{equation}"
     ]
    },
    {
     "cell_type": "markdown",
     "metadata": {},
     "source": [
      "\\begin{equation}\n",
      "\\left\\{\n",
      "\\begin{array}{l}\n",
      "\\xi_j(s) = x_j - s\\sin(\\beta_j) = x_j + st_{x,j} \\\\\n",
      "\\eta_j(s) = x_j + s\\cos(\\beta_j) = y_j + st_{y,j}\n",
      "\\end{array}\n",
      "\\right.\n",
      "\\end{equation}"
     ]
    },
    {
     "cell_type": "markdown",
     "metadata": {},
     "source": [
      "**P.S.** \n",
      "\n",
      "You probably found that, in your codes, you won't need to calculate the angle of each panel, $\\beta$. You can directly use the end points of each panel to obtain $\\vec{t}$ and $\\vec{n}$ on each panel."
     ]
    },
    {
     "cell_type": "markdown",
     "metadata": {},
     "source": [
      "----------------------------"
     ]
    },
    {
     "cell_type": "raw",
     "metadata": {},
     "source": [
      "Please ignore the cell below. It just loads our style for the notebook."
     ]
    },
    {
     "cell_type": "code",
     "collapsed": false,
     "input": [
      "from IPython.core.display import HTML\n",
      "def css_styling():\n",
      "    styles = open('../styles/custom.css', 'r').read()\n",
      "    return HTML(styles)\n",
      "css_styling()"
     ],
     "language": "python",
     "metadata": {},
     "outputs": [
      {
       "html": [
        "<link href='http://fonts.googleapis.com/css?family=Fenix' rel='stylesheet' type='text/css'>\n",
        "<link href='http://fonts.googleapis.com/css?family=Alegreya+Sans:100,300,400,500,700,800,900,100italic,300italic,400italic,500italic,700italic,800italic,900italic' rel='stylesheet' type='text/css'>\n",
        "<link href='http://fonts.googleapis.com/css?family=Source+Code+Pro:300,400' rel='stylesheet' type='text/css'>\n",
        "<style>\n",
        "\n",
        "@font-face {\n",
        "    font-family: \"Computer Modern\";\n",
        "    src: url('http://mirrors.ctan.org/fonts/cm-unicode/fonts/otf/cmunss.otf');\n",
        "}\n",
        "\n",
        "\n",
        "#notebook_panel { /* main background */\n",
        "    background: rgb(245,245,245);\n",
        "}\n",
        "\n",
        "div.cell { /* set cell width */\n",
        "    width: 750px;\n",
        "}\n",
        "\n",
        "div #notebook { /* centre the content */\n",
        "    background: #fff; /* white background for content */\n",
        "    width: 1000px;\n",
        "    margin: auto;\n",
        "    padding-left: 0em;\n",
        "}\n",
        "\n",
        "#notebook li { /* More space between bullet points */\n",
        "margin-top:0.8em;\n",
        "}\n",
        "\n",
        "/* draw border around running cells */\n",
        "div.cell.border-box-sizing.code_cell.running { \n",
        "    border: 1px solid #111;\n",
        "}\n",
        "\n",
        "/* Put a solid color box around each cell and its output, visually linking them*/\n",
        "div.cell.code_cell {\n",
        "    background-color: rgb(256,256,256); \n",
        "    border-radius: 0px; \n",
        "    padding: 0.5em;\n",
        "    margin-left:1em;\n",
        "    margin-top: 1em;\n",
        "}\n",
        "\n",
        "\n",
        "div.text_cell_render{\n",
        "    font-family: 'Alegreya Sans' sans-serif;\n",
        "    line-height: 140%;\n",
        "    font-size: 125%;\n",
        "    font-weight: 400;\n",
        "    width:600px;\n",
        "    margin-left:auto;\n",
        "    margin-right:auto;\n",
        "}\n",
        "\n",
        "/* Formatting for header cells */\n",
        ".text_cell_render h1 {\n",
        "    font-family: 'Alegreya Sans', sans-serif;\n",
        "    font-style:regular;\n",
        "    font-weight: 200;    \n",
        "    font-size: 50pt;\n",
        "    line-height: 100%;\n",
        "    color:#CD2305;\n",
        "    margin-bottom: 0.5em;\n",
        "    margin-top: 0.5em;\n",
        "    display: block;\n",
        "}\t\n",
        ".text_cell_render h2 {\n",
        "    font-family: 'Fenix', serif;\n",
        "    font-size: 22pt;\n",
        "    line-height: 100%;\n",
        "    margin-bottom: 0.1em;\n",
        "    margin-top: 0.3em;\n",
        "    display: block;\n",
        "}\t\n",
        "\n",
        ".text_cell_render h3 {\n",
        "    font-family: 'Fenix', serif;\n",
        "    margin-top:12px;\n",
        "\tfont-size: 16pt;\n",
        "    margin-bottom: 3px;\n",
        "    font-style: regular;\n",
        "}\n",
        "\n",
        ".text_cell_render h4 {    /*Use this for captions*/\n",
        "    font-family: 'Fenix', serif;\n",
        "    font-size: 2pt;\n",
        "    text-align: center;\n",
        "    margin-top: 0em;\n",
        "    margin-bottom: 2em;\n",
        "    font-style: regular;\n",
        "}\n",
        "\n",
        ".text_cell_render h5 {  /*Use this for small titles*/\n",
        "    font-family: 'Alegreya Sans', sans-serif;\n",
        "    font-weight: 300;\n",
        "    font-size: 16pt;\n",
        "    color: #CD2305;\n",
        "    font-style: italic;\n",
        "    margin-bottom: .5em;\n",
        "    margin-top: 0.5em;\n",
        "    display: block;\n",
        "}\n",
        "\n",
        ".text_cell_render h6 { /*use this for copyright note*/\n",
        "    font-family: 'Source Code Pro', sans-serif;\n",
        "    font-weight: 300;\n",
        "    font-size: 9pt;\n",
        "    line-height: 100%;\n",
        "    color: grey;\n",
        "    margin-bottom: 1px;\n",
        "    margin-top: 1px;\n",
        "}\n",
        "\n",
        "    .CodeMirror{\n",
        "            font-family: \"Source Code Pro\";\n",
        "\t\t\tfont-size: 90%;\n",
        "    }\n",
        "/*    .prompt{\n",
        "        display: None;\n",
        "    }*/\n",
        "\t\n",
        "    \n",
        "    .warning{\n",
        "        color: rgb( 240, 20, 20 )\n",
        "        }  \n",
        "</style>\n",
        "<script>\n",
        "    MathJax.Hub.Config({\n",
        "                        TeX: {\n",
        "                           extensions: [\"AMSmath.js\"], \n",
        "                           equationNumbers: { autoNumber: \"AMS\", useLabelIds: true}\n",
        "                           },\n",
        "                tex2jax: {\n",
        "                    inlineMath: [ ['$','$'], [\"\\\\(\",\"\\\\)\"] ],\n",
        "                    displayMath: [ ['$$','$$'], [\"\\\\[\",\"\\\\]\"] ]\n",
        "                },\n",
        "                displayAlign: 'center', // Change this to 'center' to center equations.\n",
        "                \"HTML-CSS\": {\n",
        "                    styles: {'.MathJax_Display': {\"margin\": 4}}\n",
        "                }\n",
        "        });\n",
        "</script>\n"
       ],
       "metadata": {},
       "output_type": "pyout",
       "prompt_number": 2,
       "text": [
        "<IPython.core.display.HTML at 0x7f7d0872e898>"
       ]
      }
     ],
     "prompt_number": 2
    }
   ],
   "metadata": {}
  }
 ]
}